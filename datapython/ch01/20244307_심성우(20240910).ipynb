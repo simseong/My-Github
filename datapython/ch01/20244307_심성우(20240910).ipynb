{
 "cells": [
  {
   "cell_type": "markdown",
   "id": "393c9ac4-d8bb-427e-9fde-233d70d4a174",
   "metadata": {},
   "source": [
    "# 20240905\n",
    "- 심성우\n",
    "- 20244307"
   ]
  },
  {
   "cell_type": "markdown",
   "id": "d9233649-8d4f-454c-8fe2-0ae4d665cda3",
   "metadata": {},
   "source": [
    "## 오늘 배운것들\n",
    "- 반복문을을 배웠다\n",
    "- 파이썬에서 사칙연산 하는법을 배웠다\n",
    "  \n"
   ]
  },
  {
   "cell_type": "markdown",
   "id": "9ceeb429-e05e-4ce0-b965-a93f8fc19d9e",
   "metadata": {},
   "source": [
    "### 어려운 점들\n",
    "-오늘은 어려운게 없었다."
   ]
  },
  {
   "cell_type": "markdown",
   "id": "37a255a9-097b-4763-a88f-4c32c4baa1b5",
   "metadata": {},
   "source": [
    "## 주관식 문제\n",
    "(1) 데이터 과학  \n",
    "(2) 데이터 중심의 과학  \n",
    "(3) 데이터 엔지니어  \n",
    "(4) 기계 학습 엔지니어  \n",
    "(5) 프로그램  \n",
    "(6) 기계어  \n",
    "(7) 프로그래밍 언어  \n",
    "(8) 귀도 반 로섬  \n",
    "(9) 인터프린터  \n",
    "(10) 문자열  \n",
    "(11) print()  \n",
    "(12) 주석  \n",
    "(13) 터틀 그래픽  "
   ]
  },
  {
   "attachments": {},
   "cell_type": "markdown",
   "id": "6d488063-e918-4456-908a-57bfca07525c",
   "metadata": {},
   "source": [
    "## 심화문제\n",
    "(1) 프로그래밍:프로그램을 만드는일   \n",
    "    인터프린터:프로그래밍 언어의 소스 코드를 바로 실행하는 컴퓨터 프로그램 또는 환경   \n",
    "    컴파일러:특정 프로그래밍 언어로 쓰여 있는 문서를 다른 프로그래밍 언어로 옮기는 언어 번역 프로그램   \n",
    "    통합개발환경:프로그래머가 소프트웨어 코드를 효율적으로 개발하도록 돕는 소프트웨어 애플리케이션\n",
    "    프롬포트:다이얼로그 시스템에서 필요로 하는 정보를 추가로 입력받거나 알려주기 위하여 사용자에게 출력하는 메시지\n",
    "    라이브러리:주로 소프트웨어를 개발할 때 컴퓨터 프로그램이 사용하는 비휘발성 자원의 모임   \n",
    "    문자열: 기호의 순차 수열   \n",
    "    표현식: 표현식이란 어떤 값으로 이행하는 임의의 유효한 코드 단위\n",
    "(2) \n",
    "(3) 100\n",
    "    300\n",
    "    100 + 200\n",
    "    100 200\n",
    "    100200\n",
    "    Hello Python!\n",
    "    Hello Python !\n",
    "    HelloPython!\n",
    "    HelloPython!\n",
    "    ********************\n",
    "    ********************"
   ]
  },
  {
   "cell_type": "markdown",
   "id": "5a191281-178d-4085-ae0b-11c3899e2772",
   "metadata": {},
   "source": [
    "### 1.1\n",
    "(1)프로그래밍:프로그램을 만드는일   \n",
    "(2)인터프린터:프로그래밍 언어의 소스 코드를 바로 실행하는 컴퓨터 프로그램 또는 환경   \n",
    "(3)컴파일러:특정 프로그래밍 언어로 쓰여 있는 문서를 다른 프로그래밍 언어로 옮기는 언어 번역 프로그램   \n",
    "(4)통합개발환경:프로그래머가 소프트웨어 코드를 효율적으로 개발하도록 돕는 소프트웨어 애플리케이션\n",
    "(5)프롬포트:다이얼로그 시스템에서 필요로 하는 정보를 추가로 입력받거나 알려주기 위하여 사용자에게 출력하는 메시지\n",
    "(6)라이브러리:주로 소프트웨어를 개발할 때 컴퓨터 프로그램이 사용하는 비휘발성 자원의 모임   \n",
    "(7)문자열: 기호의 순차 수열   \n",
    "(8)표현식: 표현식이란 어떤 값으로 이행하는 임의의 유효한 코드 단위\n"
   ]
  },
  {
   "cell_type": "markdown",
   "id": "937a0ee2-d0bb-47eb-9d01-c20e4735a9e1",
   "metadata": {},
   "source": [
    "### 1.3"
   ]
  },
  {
   "cell_type": "code",
   "execution_count": 8,
   "id": "2faceb17-296e-477f-a0c3-07597f7c3dc8",
   "metadata": {},
   "outputs": [
    {
     "name": "stdout",
     "output_type": "stream",
     "text": [
      "100\n"
     ]
    }
   ],
   "source": [
    "# (1)\n",
    "print(100)\n"
   ]
  },
  {
   "cell_type": "code",
   "execution_count": 10,
   "id": "4c9a97a9-3d03-4af0-ab25-8177e5fcacdf",
   "metadata": {},
   "outputs": [
    {
     "name": "stdout",
     "output_type": "stream",
     "text": [
      "300\n"
     ]
    }
   ],
   "source": [
    "# (2)\n",
    "print(100+200)\n"
   ]
  },
  {
   "cell_type": "code",
   "execution_count": 12,
   "id": "c22c7136-bc9a-4e2f-8daf-9ac50bc55cef",
   "metadata": {},
   "outputs": [
    {
     "name": "stdout",
     "output_type": "stream",
     "text": [
      "100+200\n"
     ]
    }
   ],
   "source": [
    "# (3)\n",
    "print('100+200')"
   ]
  },
  {
   "cell_type": "code",
   "execution_count": 14,
   "id": "7d7065a7-918c-4c6b-badb-6c7e9a609563",
   "metadata": {},
   "outputs": [
    {
     "name": "stdout",
     "output_type": "stream",
     "text": [
      "100 200\n"
     ]
    }
   ],
   "source": [
    "# (4)\n",
    "print(100, 200)"
   ]
  },
  {
   "cell_type": "code",
   "execution_count": 16,
   "id": "399c0d7f-6c5d-4271-9310-f6148200943b",
   "metadata": {},
   "outputs": [
    {
     "name": "stdout",
     "output_type": "stream",
     "text": [
      "100 200\n"
     ]
    }
   ],
   "source": [
    "#(5) \n",
    "print('100','200')"
   ]
  },
  {
   "cell_type": "code",
   "execution_count": 20,
   "id": "826a72fd-41c8-40fa-8f21-d41f2f6ead4a",
   "metadata": {},
   "outputs": [
    {
     "name": "stdout",
     "output_type": "stream",
     "text": [
      "100 200\n"
     ]
    }
   ],
   "source": [
    "# (6)\n",
    "print('100','200')"
   ]
  },
  {
   "cell_type": "code",
   "execution_count": 22,
   "id": "2392be5b-d300-445b-97eb-47992f6c08a6",
   "metadata": {},
   "outputs": [
    {
     "name": "stdout",
     "output_type": "stream",
     "text": [
      "100200\n"
     ]
    }
   ],
   "source": [
    "# (7)\n",
    "print('100''200')"
   ]
  },
  {
   "cell_type": "code",
   "execution_count": 43,
   "id": "1b449382-532a-41a7-9537-63daa70ce883",
   "metadata": {},
   "outputs": [
    {
     "name": "stdout",
     "output_type": "stream",
     "text": [
      "Hello Python !\n"
     ]
    }
   ],
   "source": [
    "# (8)\n",
    "print('Hello','Python','!')"
   ]
  },
  {
   "cell_type": "code",
   "execution_count": 45,
   "id": "d222a2b4-07ab-4935-b587-fdfd9368f02f",
   "metadata": {},
   "outputs": [
    {
     "name": "stdout",
     "output_type": "stream",
     "text": [
      "HelloPython!\n"
     ]
    }
   ],
   "source": [
    "# (9)\n",
    "print('Hello'+'Python'+'!')"
   ]
  },
  {
   "cell_type": "code",
   "execution_count": 47,
   "id": "f899f325-7afa-41be-a93e-0f7d0e1b4250",
   "metadata": {},
   "outputs": [
    {
     "name": "stdout",
     "output_type": "stream",
     "text": [
      "HelloPython!\n"
     ]
    }
   ],
   "source": [
    "# (10)\n",
    "print('Hello''Python''!')"
   ]
  },
  {
   "cell_type": "code",
   "execution_count": 32,
   "id": "1d43e912-8442-4c9d-a841-4fded8a6fb39",
   "metadata": {},
   "outputs": [
    {
     "name": "stdout",
     "output_type": "stream",
     "text": [
      "********************\n"
     ]
    }
   ],
   "source": [
    "# (11)\n",
    "print('********************')"
   ]
  },
  {
   "cell_type": "code",
   "execution_count": 34,
   "id": "6f9ee9de-e71a-4cee-8e65-0230d3db6730",
   "metadata": {},
   "outputs": [
    {
     "name": "stdout",
     "output_type": "stream",
     "text": [
      "********************\n"
     ]
    }
   ],
   "source": [
    "# (12)\n",
    "print('*'*20)"
   ]
  },
  {
   "cell_type": "markdown",
   "id": "df7cf792-d7fe-4665-b09d-13597b8015c8",
   "metadata": {},
   "source": [
    "### 1.4"
   ]
  },
  {
   "cell_type": "code",
   "execution_count": 49,
   "id": "90127d7a-74df-4485-b97b-58cdba84020e",
   "metadata": {},
   "outputs": [
    {
     "name": "stdout",
     "output_type": "stream",
     "text": [
      "Hello Python\n"
     ]
    }
   ],
   "source": [
    "# (1)\n",
    "print(\"Hello Python\")"
   ]
  },
  {
   "cell_type": "code",
   "execution_count": 53,
   "id": "5e3da228-f98f-40ab-9411-80a4e224ca51",
   "metadata": {},
   "outputs": [
    {
     "name": "stdout",
     "output_type": "stream",
     "text": [
      "********************\n"
     ]
    }
   ],
   "source": [
    "# (2)\n",
    "print('*'*20)"
   ]
  },
  {
   "cell_type": "code",
   "execution_count": 55,
   "id": "9c1907af-5dff-40d7-8f63-69f4860f63b0",
   "metadata": {},
   "outputs": [
    {
     "name": "stdout",
     "output_type": "stream",
     "text": [
      "Life is short learn Python\n"
     ]
    }
   ],
   "source": [
    "# (3)\n",
    "print('Life is short learn Python')"
   ]
  },
  {
   "cell_type": "code",
   "execution_count": 59,
   "id": "47400c0d-1f0d-4e86-905a-df09d1460459",
   "metadata": {},
   "outputs": [
    {
     "name": "stdout",
     "output_type": "stream",
     "text": [
      "100200\n",
      "300\n"
     ]
    }
   ],
   "source": [
    "# (4)\n",
    "print('100'+'200')\n",
    "print(100+200)\n"
   ]
  },
  {
   "cell_type": "markdown",
   "id": "3c3dfdb8-fc51-4743-821d-bad9ffefde17",
   "metadata": {},
   "source": [
    "### 1.5\n"
   ]
  },
  {
   "cell_type": "code",
   "execution_count": 91,
   "id": "a77a4318-508d-4330-8d79-b2a69eeefad8",
   "metadata": {},
   "outputs": [
    {
     "name": "stdout",
     "output_type": "stream",
     "text": [
      "I love Python!!\n",
      "I love Python!!\n",
      "I love Python!!\n",
      "I love Python!!\n",
      "I love Python!!\n"
     ]
    }
   ],
   "source": [
    "print('I love Python!!')\n",
    "print('I love Python!!')\n",
    "print('I love Python!!')\n",
    "print('I love Python!!')\n",
    "print('I love Python!!')"
   ]
  },
  {
   "cell_type": "markdown",
   "id": "316de2c0-cb7f-48cd-902d-bcf4bef8207a",
   "metadata": {},
   "source": [
    "### 1.6"
   ]
  },
  {
   "cell_type": "code",
   "execution_count": 89,
   "id": "58d5c41b-5444-4d4c-b8a5-a35933c94c55",
   "metadata": {},
   "outputs": [
    {
     "name": "stdout",
     "output_type": "stream",
     "text": [
      "*\n",
      "**\n",
      "****\n",
      "*****\n",
      "******\n",
      "*******\n"
     ]
    }
   ],
   "source": [
    "print('*')\n",
    "print('**')\n",
    "print('****')\n",
    "print('*****')\n",
    "print('******')\n",
    "print('*******')\n",
    "\n",
    "       "
   ]
  },
  {
   "cell_type": "markdown",
   "id": "c1666ed9-cc8d-49fe-b9f0-d0915a72f079",
   "metadata": {},
   "source": [
    "### 1.7\n"
   ]
  },
  {
   "cell_type": "code",
   "execution_count": 113,
   "id": "1805ad3c-b5bc-4d63-b657-45ba497db4e3",
   "metadata": {},
   "outputs": [],
   "source": [
    "import turtle as t\n",
    "t.forward(100)\n",
    "t.left(135)\n",
    "t.forward(141)\n",
    "t.left(135)\n",
    "t.forward(100)\n",
    "t.done()"
   ]
  },
  {
   "cell_type": "code",
   "execution_count": null,
   "id": "df25482f-04fb-4418-b630-6d833eeac28b",
   "metadata": {},
   "outputs": [],
   "source": [
    "import turtle as t\n",
    "t.forward(100)\n",
    "t.left(120)\n",
    "t.forward(100)\n",
    "t.left(60)\n",
    "t.forward(100)\n",
    "t.right(120)\n",
    "\n"
   ]
  },
  {
   "cell_type": "markdown",
   "id": "1b5c9e04-0dc9-4d8a-8328-9bd77a1bd2da",
   "metadata": {},
   "source": [
    "### 1.8"
   ]
  },
  {
   "cell_type": "code",
   "execution_count": 116,
   "id": "d337a813-223a-4cd5-bdda-23641b1ded9c",
   "metadata": {},
   "outputs": [
    {
     "data": {
      "text/plain": [
       "200"
      ]
     },
     "execution_count": 116,
     "metadata": {},
     "output_type": "execute_result"
    }
   ],
   "source": [
    "100 + 100"
   ]
  },
  {
   "cell_type": "code",
   "execution_count": 109,
   "id": "41c3a1ca-5642-4b3f-b547-629a93d0dd4d",
   "metadata": {},
   "outputs": [
    {
     "data": {
      "text/plain": [
       "300"
      ]
     },
     "execution_count": 109,
     "metadata": {},
     "output_type": "execute_result"
    }
   ],
   "source": [
    "100 + 200"
   ]
  },
  {
   "cell_type": "code",
   "execution_count": 118,
   "id": "cf5124bd-a04c-4cbc-8ea6-eb3bfc635a66",
   "metadata": {},
   "outputs": [
    {
     "data": {
      "text/plain": [
       "100"
      ]
     },
     "execution_count": 118,
     "metadata": {},
     "output_type": "execute_result"
    }
   ],
   "source": [
    "200 -100"
   ]
  },
  {
   "cell_type": "code",
   "execution_count": 120,
   "id": "5f68ec6b-c820-483e-ac45-5ae31fe5f10c",
   "metadata": {},
   "outputs": [
    {
     "data": {
      "text/plain": [
       "-100"
      ]
     },
     "execution_count": 120,
     "metadata": {},
     "output_type": "execute_result"
    }
   ],
   "source": [
    "100 - 200"
   ]
  },
  {
   "cell_type": "code",
   "execution_count": 122,
   "id": "77a6f060-e822-4f00-8410-628dcacf8f7e",
   "metadata": {},
   "outputs": [
    {
     "data": {
      "text/plain": [
       "200"
      ]
     },
     "execution_count": 122,
     "metadata": {},
     "output_type": "execute_result"
    }
   ],
   "source": [
    "100 * 2"
   ]
  },
  {
   "cell_type": "code",
   "execution_count": 124,
   "id": "2c209197-08cd-4481-aae1-3f8ca14ac41d",
   "metadata": {},
   "outputs": [
    {
     "data": {
      "text/plain": [
       "50.0"
      ]
     },
     "execution_count": 124,
     "metadata": {},
     "output_type": "execute_result"
    }
   ],
   "source": [
    "100 / 2"
   ]
  },
  {
   "cell_type": "markdown",
   "id": "a092a78a-5d52-4c78-be33-c72a13cd0ef9",
   "metadata": {},
   "source": [
    "### 1.9"
   ]
  },
  {
   "cell_type": "code",
   "execution_count": 137,
   "id": "e538e005-4643-4bc6-94fe-e7a209cdf497",
   "metadata": {},
   "outputs": [
    {
     "data": {
      "text/plain": [
       "300"
      ]
     },
     "execution_count": 137,
     "metadata": {},
     "output_type": "execute_result"
    }
   ],
   "source": [
    "400 - 200 + 100"
   ]
  },
  {
   "cell_type": "code",
   "execution_count": 138,
   "id": "d87bc4e9-6a21-47b1-b13e-28368cd35583",
   "metadata": {},
   "outputs": [
    {
     "data": {
      "text/plain": [
       "81700"
      ]
     },
     "execution_count": 138,
     "metadata": {},
     "output_type": "execute_result"
    }
   ],
   "source": [
    "409 * 200 -100"
   ]
  },
  {
   "cell_type": "code",
   "execution_count": 139,
   "id": "c3801785-0faa-4d27-a91d-33ea80f8b941",
   "metadata": {},
   "outputs": [
    {
     "data": {
      "text/plain": [
       "2.0"
      ]
     },
     "execution_count": 139,
     "metadata": {},
     "output_type": "execute_result"
    }
   ],
   "source": [
    "6*3 / 9"
   ]
  },
  {
   "cell_type": "code",
   "execution_count": 140,
   "id": "20f2fc0c-c4f6-46a3-a8cf-e30553652494",
   "metadata": {},
   "outputs": [
    {
     "data": {
      "text/plain": [
       "729"
      ]
     },
     "execution_count": 140,
     "metadata": {},
     "output_type": "execute_result"
    }
   ],
   "source": [
    "9**3"
   ]
  },
  {
   "cell_type": "code",
   "execution_count": 141,
   "id": "8b894a31-fd5c-4b62-847c-df81c8db33ae",
   "metadata": {},
   "outputs": [
    {
     "data": {
      "text/plain": [
       "3.0"
      ]
     },
     "execution_count": 141,
     "metadata": {},
     "output_type": "execute_result"
    }
   ],
   "source": [
    "9/3\n"
   ]
  },
  {
   "cell_type": "code",
   "execution_count": 142,
   "id": "76b04edd-1d01-43fc-b28d-dbcc0ef2cd31",
   "metadata": {},
   "outputs": [
    {
     "data": {
      "text/plain": [
       "3"
      ]
     },
     "execution_count": 142,
     "metadata": {},
     "output_type": "execute_result"
    }
   ],
   "source": [
    "9//3\n"
   ]
  },
  {
   "cell_type": "markdown",
   "id": "9ba76110-d345-4f50-8b22-56e3b41bc00a",
   "metadata": {},
   "source": [
    "### 1.10"
   ]
  },
  {
   "cell_type": "code",
   "execution_count": 3,
   "id": "6a1d5c2b-699f-4e1c-8fd6-5ac4ec7425e4",
   "metadata": {},
   "outputs": [
    {
     "name": "stdout",
     "output_type": "stream",
     "text": [
      "1부터 10까지의 정수의 합\n"
     ]
    },
    {
     "data": {
      "text/plain": [
       "55"
      ]
     },
     "execution_count": 3,
     "metadata": {},
     "output_type": "execute_result"
    }
   ],
   "source": [
    "#(1)\n",
    "print('1부터 10까지의 정수의 합')\n",
    "1+2+3+4+5+6+7+8+9+10\n"
   ]
  },
  {
   "cell_type": "code",
   "execution_count": 5,
   "id": "b120430d-5353-4081-aa23-a45cec4322c1",
   "metadata": {},
   "outputs": [
    {
     "name": "stdout",
     "output_type": "stream",
     "text": [
      "반지름 길이가  5인 원의 둘레\n"
     ]
    },
    {
     "data": {
      "text/plain": [
       "31.400000000000002"
      ]
     },
     "execution_count": 5,
     "metadata": {},
     "output_type": "execute_result"
    }
   ],
   "source": [
    "#(2)\n",
    "print('반지름 길이가  5인 원의 둘레')\n",
    "3.14*2*5\n"
   ]
  },
  {
   "cell_type": "code",
   "execution_count": 7,
   "id": "a662d52b-2d18-4599-b8d9-db3d82c01218",
   "metadata": {},
   "outputs": [
    {
     "name": "stdout",
     "output_type": "stream",
     "text": [
      "한 변의 길이가 20인 정사각형의 들레\n"
     ]
    },
    {
     "data": {
      "text/plain": [
       "80"
      ]
     },
     "execution_count": 7,
     "metadata": {},
     "output_type": "execute_result"
    }
   ],
   "source": [
    "#(3)\n",
    "print('한 변의 길이가 20인 정사각형의 들레')\n",
    "20*4"
   ]
  },
  {
   "cell_type": "code",
   "execution_count": 9,
   "id": "46e93e5c-0b42-4b52-8940-7548c711c4f6",
   "metadata": {},
   "outputs": [
    {
     "name": "stdout",
     "output_type": "stream",
     "text": [
      "한 변의 길이가 20인 정사각형의 면적\n"
     ]
    },
    {
     "data": {
      "text/plain": [
       "400"
      ]
     },
     "execution_count": 9,
     "metadata": {},
     "output_type": "execute_result"
    }
   ],
   "source": [
    "#(4)\n",
    "print('한 변의 길이가 20인 정사각형의 면적')\n",
    "20*20"
   ]
  },
  {
   "cell_type": "code",
   "execution_count": 13,
   "id": "c36b3a4e-b66f-451b-a1b3-b5bf4275ab71",
   "metadata": {},
   "outputs": [
    {
     "name": "stdout",
     "output_type": "stream",
     "text": [
      "높이가 10이고 밑변이 30인 직사각형의 둘레\n"
     ]
    },
    {
     "data": {
      "text/plain": [
       "80"
      ]
     },
     "execution_count": 13,
     "metadata": {},
     "output_type": "execute_result"
    }
   ],
   "source": [
    "#(5)\n",
    "print('높이가 10이고 밑변이 30인 직사각형의 둘레')\n",
    "2*10+30*2\n"
   ]
  },
  {
   "cell_type": "code",
   "execution_count": 15,
   "id": "ee045410-afcc-4f41-8265-05bbf88052e0",
   "metadata": {},
   "outputs": [
    {
     "name": "stdout",
     "output_type": "stream",
     "text": [
      "높이가 10이고 밑변이 30인 직사각형의 면적\n"
     ]
    },
    {
     "data": {
      "text/plain": [
       "300"
      ]
     },
     "execution_count": 15,
     "metadata": {},
     "output_type": "execute_result"
    }
   ],
   "source": [
    "#(6)\n",
    "print('높이가 10이고 밑변이 30인 직사각형의 면적')\n",
    "10*30\n"
   ]
  },
  {
   "cell_type": "code",
   "execution_count": 17,
   "id": "902423e0-512d-4603-9ab3-ebd8e7389ae3",
   "metadata": {},
   "outputs": [
    {
     "name": "stdout",
     "output_type": "stream",
     "text": [
      "높이가 20이고 밑변이 30인 이등변 삼각형의 면적\n"
     ]
    },
    {
     "data": {
      "text/plain": [
       "300.0"
      ]
     },
     "execution_count": 17,
     "metadata": {},
     "output_type": "execute_result"
    }
   ],
   "source": [
    "#(7)\n",
    "print('높이가 20이고 밑변이 30인 이등변 삼각형의 면적')\n",
    "30*20/2"
   ]
  },
  {
   "cell_type": "markdown",
   "id": "5b9d626f-c3f4-46cc-8b27-fb2bc8d23689",
   "metadata": {},
   "source": [
    "### 1.11"
   ]
  },
  {
   "cell_type": "code",
   "execution_count": 20,
   "id": "b6f69e37-3399-406b-9b08-d8e0c1e7b445",
   "metadata": {},
   "outputs": [
    {
     "data": {
      "text/plain": [
       "6"
      ]
     },
     "execution_count": 20,
     "metadata": {},
     "output_type": "execute_result"
    }
   ],
   "source": [
    "#(1)\n",
    "1*2*3"
   ]
  },
  {
   "cell_type": "code",
   "execution_count": 22,
   "id": "a8166b00-6a99-4eb3-9d16-00dfa8974703",
   "metadata": {},
   "outputs": [
    {
     "data": {
      "text/plain": [
       "24"
      ]
     },
     "execution_count": 22,
     "metadata": {},
     "output_type": "execute_result"
    }
   ],
   "source": [
    "#(2)\n",
    "1*2*3*4"
   ]
  },
  {
   "cell_type": "code",
   "execution_count": 24,
   "id": "7a822d65-f588-4b9b-bc63-775f27e0cd56",
   "metadata": {},
   "outputs": [
    {
     "data": {
      "text/plain": [
       "120"
      ]
     },
     "execution_count": 24,
     "metadata": {},
     "output_type": "execute_result"
    }
   ],
   "source": [
    "#(3)\n",
    "1*2*3*4*5"
   ]
  },
  {
   "cell_type": "code",
   "execution_count": 28,
   "id": "156dff32-f16f-4e8a-bd92-6a2b9905f16c",
   "metadata": {},
   "outputs": [
    {
     "data": {
      "text/plain": [
       "720"
      ]
     },
     "execution_count": 28,
     "metadata": {},
     "output_type": "execute_result"
    }
   ],
   "source": [
    "#(4)\n",
    "1*2*3*4*5*6\n"
   ]
  },
  {
   "cell_type": "code",
   "execution_count": 30,
   "id": "d57a20f1-67ce-4e62-bef9-c6b71ce4ac60",
   "metadata": {},
   "outputs": [
    {
     "data": {
      "text/plain": [
       "5040"
      ]
     },
     "execution_count": 30,
     "metadata": {},
     "output_type": "execute_result"
    }
   ],
   "source": [
    "#(5)\n",
    "1*2*3*4*5*6*7"
   ]
  },
  {
   "cell_type": "markdown",
   "id": "44a288b1-d04e-4a92-ada2-ae422ca6c642",
   "metadata": {},
   "source": [
    "### 1.12"
   ]
  },
  {
   "cell_type": "code",
   "execution_count": 35,
   "id": "e7e9fd52-4450-4918-9e08-3a3cd301bdec",
   "metadata": {},
   "outputs": [
    {
     "name": "stdout",
     "output_type": "stream",
     "text": [
      "3! = 6\n"
     ]
    }
   ],
   "source": [
    "#(1)\n",
    "print('3! =',1*2*3)"
   ]
  },
  {
   "cell_type": "code",
   "execution_count": 37,
   "id": "109aeac0-fcfd-400f-aec1-58da70183e21",
   "metadata": {},
   "outputs": [
    {
     "name": "stdout",
     "output_type": "stream",
     "text": [
      "4! = 24\n"
     ]
    }
   ],
   "source": [
    "#(2)\n",
    "print('4! =',1*2*3*4)"
   ]
  },
  {
   "cell_type": "code",
   "execution_count": 39,
   "id": "9fe87291-54ee-40bf-9f5d-a7d0e6509462",
   "metadata": {},
   "outputs": [
    {
     "name": "stdout",
     "output_type": "stream",
     "text": [
      "5! = 120\n"
     ]
    }
   ],
   "source": [
    "#(3)\n",
    "print('5! =',1*2*3*4*5)"
   ]
  },
  {
   "cell_type": "code",
   "execution_count": 41,
   "id": "6b920e57-cba2-474a-8f53-c820dcd34f26",
   "metadata": {},
   "outputs": [
    {
     "name": "stdout",
     "output_type": "stream",
     "text": [
      "6! = 720\n"
     ]
    }
   ],
   "source": [
    "#(4)\n",
    "print('6! =',1*2*3*4*5*6)"
   ]
  },
  {
   "cell_type": "code",
   "execution_count": 43,
   "id": "a45a6999-2c6c-440e-a34a-7270d3f69908",
   "metadata": {},
   "outputs": [
    {
     "name": "stdout",
     "output_type": "stream",
     "text": [
      "7! = 5040\n"
     ]
    }
   ],
   "source": [
    "#(5)\n",
    "print('7! =',1*2*3*4*5*6*7)"
   ]
  },
  {
   "cell_type": "code",
   "execution_count": null,
   "id": "a5b9e024-5b91-4a03-bf51-533559ae6a0c",
   "metadata": {},
   "outputs": [],
   "source": []
  }
 ],
 "metadata": {
  "kernelspec": {
   "display_name": "Python 3 (ipykernel)",
   "language": "python",
   "name": "python3"
  },
  "language_info": {
   "codemirror_mode": {
    "name": "ipython",
    "version": 3
   },
   "file_extension": ".py",
   "mimetype": "text/x-python",
   "name": "python",
   "nbconvert_exporter": "python",
   "pygments_lexer": "ipython3",
   "version": "3.12.4"
  }
 },
 "nbformat": 4,
 "nbformat_minor": 5
}
