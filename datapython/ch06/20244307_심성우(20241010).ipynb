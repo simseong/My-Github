{
 "cells": [
  {
   "cell_type": "markdown",
   "id": "fe280af6-2b19-41d1-a47f-70d9597d423c",
   "metadata": {},
   "source": [
    "## 20244307_심성우(20241010)\n",
    "- 6장 -함수로의 일자리를 짜임새있게하자!\n",
    "- 심성우\n",
    "- 20244307\n"
   ]
  },
  {
   "cell_type": "markdown",
   "id": "81c9bb03-e726-4269-be8d-139d492a0cfd",
   "metadata": {},
   "source": [
    "## 오늘 배운것\n",
    "1. 함수의 매겨변수와 인자 전달방식 3가지를 배웠다\n",
    "2. 함수를 사용하는 이유를 배웠다"
   ]
  },
  {
   "cell_type": "markdown",
   "id": "82395060-eee5-447e-90c5-f962a76ce45c",
   "metadata": {},
   "source": [
    "## 여려웠던것\n",
    "1.return 키워드의 사용법이 어려웠다"
   ]
  },
  {
   "cell_type": "markdown",
   "id": "a1a51e29-6943-4c18-ac15-f799a2b82774",
   "metadata": {},
   "source": [
    "## 요점정리\n",
    "\n",
    "### 1) 함수의 기본형식을 적어라\n",
    "1. def 함수이름(매개변수,...):\n",
    "2. 함수이름(인자,...)"
   ]
  },
  {
   "cell_type": "markdown",
   "id": "93ec4eb9-a139-4dcb-82b4-53637fc396dc",
   "metadata": {},
   "source": [
    "### 2)함수에서 매개 변수/인자 전달방식은 세가지가 있다. 세가지 방법의 특징을 써라\n",
    "1. 위치인자(positional argument) : 매개변수의 순서와 인자의 순서를 맞추어 전달함\n",
    "2. 키워드 인자(keyword argument) : 매개변수에 이름으로 일치시키는 인자 전달 방식\n",
    "3. 디폴트 인자(default argument) : 함수의 매개변수가 기본값을 갖는것"
   ]
  },
  {
   "cell_type": "markdown",
   "id": "26ea26bf-6926-440f-a70b-eb1c038fa348",
   "metadata": {},
   "source": [
    "### 3)* 함수를 이용하는 이유에 대하여 적어라 \n",
    "1. \n",
    "코드 재사용성: 함수를 사용하면 동일한 코드를 여러 번 작성할 필요 없이, 한 번 정의한 함수를 여러 곳에서 호출 할수 있음   \n",
    "코드 가독성: 함수를 사용하면 코드가 더 구조화되고 읽기 쉬워져요. 각 함수는 특정 작업을 수행하므로, 코드를 읽는 사람이 쉽게 이해 할 수 있음   \n",
    "유지보수 용이성: 코드의 특정 부분을 수정해야 할 때, 함수로 분리된 코드를 수정하면 전체 코드에 영향을 주지 않고도 변경할 수 있음  \n",
    "모듈화: 함수를 사용하면 코드를 작은 단위로 나눌 수 있어, 각 단위가 독립적으로 테스트되고 디버깅할 수 있음     \n",
    "중복 코드 감소: 동일한 작업을 수행하는 코드를 반복해서 작성하는 대신, 함수를 사용하여 중복을 제거할 수 있음   "
   ]
  },
  {
   "cell_type": "markdown",
   "id": "cfe94a3a-1fdf-4c7e-bda0-34f822dbb52d",
   "metadata": {},
   "source": [
    "### 4) 모듈이란 무엇인가 설명하라\n",
    "1. 모듈(Module)은 파이썬에서 코드의 재사용성과 조직화를 위해 사용되는 파일 또는 코드의 집합을 의미한다."
   ]
  },
  {
   "cell_type": "markdown",
   "id": "a830d71c-fe1b-4a2f-baf7-dbebcbf555a2",
   "metadata": {},
   "source": [
    "## 주관식 문제\n",
    "1. 함수\n",
    "2. 객체\n",
    "3. 모듈\n",
    "4. def\n",
    "5. 함수의 이름 ()(소괄호)\n",
    "6. 매개변수\n",
    "7. 인수\n",
    "8. 반환 값\n",
    "9. return\n",
    "10. 지역변수\n",
    "11. global\n",
    "12. 디폴트 인자\n",
    "13. 재귀함수\n",
    "14. 내장 모듈\n",
    "15. 별명"
   ]
  },
  {
   "cell_type": "markdown",
   "id": "b4bd7003-522d-4f99-8793-8f1c745fc121",
   "metadata": {},
   "source": [
    "## 심화문제"
   ]
  },
  {
   "cell_type": "code",
   "execution_count": 22,
   "id": "4e662f58-186c-44ef-b5f5-2b3a6bc32459",
   "metadata": {},
   "outputs": [
    {
     "name": "stdout",
     "output_type": "stream",
     "text": [
      "3의 제곱은 : 9\n",
      "4의 제곱은 : 16\n"
     ]
    }
   ],
   "source": [
    "def square(n):\n",
    "    sq = n*n\n",
    "    return sq\n",
    "print('3의 제곱은 :', square(3))\n",
    "print('4의 제곱은 :', square(4))"
   ]
  },
  {
   "cell_type": "code",
   "execution_count": 48,
   "id": "be422d3f-82ea-4dd5-a7c9-6ceea3525dd8",
   "metadata": {},
   "outputs": [
    {
     "name": "stdout",
     "output_type": "stream",
     "text": [
      "100과 200중 큰 수는 : 200\n",
      "100과 200중 큰 수는 : 200\n",
      "100과 200중 작은 수는 : 100\n",
      "100과 200중 작은 수는 : 100\n"
     ]
    }
   ],
   "source": [
    "def max2(m, n):\n",
    "    if m > n:\n",
    "        return m\n",
    "    else:\n",
    "        return n\n",
    "\n",
    "def min2(m,n):\n",
    "    if m > n:\n",
    "        return n\n",
    "    else:\n",
    "        return m\n",
    "        \n",
    "print('100과 200중 큰 수는 :',max2(100,200)) #위치인자\n",
    "print('100과 200중 큰 수는 :',max2(m=100,n=200)) #키워드 인자\n",
    "print('100과 200중 작은 수는 :',min2(100,200)) #위치인자\n",
    "print('100과 200중 작은 수는 :',min2(m=100,n=200)) #키워드 인자"
   ]
  },
  {
   "cell_type": "code",
   "execution_count": 42,
   "id": "18076524-1167-42fd-91a4-7f4762cebcac",
   "metadata": {},
   "outputs": [
    {
     "name": "stdout",
     "output_type": "stream",
     "text": [
      "3 수를 입력하세요 : 1 2 3\n"
     ]
    },
    {
     "name": "stdout",
     "output_type": "stream",
     "text": [
      "가장 큰 값 : 3\n",
      "가장 큰=작은 값 : 1\n"
     ]
    }
   ],
   "source": [
    "def max3(n1,n2,n3):\n",
    "    return max(n1,n2,n3)\n",
    "\n",
    "def min3(n1,n2,n3):\n",
    "    return min(n1,n2,n3)\n",
    "\n",
    "n1,n2,n3 = input('3 수를 입력하세요 :').split()\n",
    "n1,n2,n3 = int(n1),int(n2),int(n3)\n",
    "print('가장 큰 값 :', max3(n1,n2,n3))\n",
    "\n",
    "\n",
    "print('가장 큰=작은 값 :', min3(n1,n2,n3))\n",
    "    "
   ]
  },
  {
   "cell_type": "code",
   "execution_count": 56,
   "id": "8e91da7a-6798-4dfa-9762-ecf582e23623",
   "metadata": {},
   "outputs": [
    {
     "name": "stdout",
     "output_type": "stream",
     "text": [
      " 0.00 -> 32.00\n",
      "10.00 -> 50.00\n",
      "20.00 -> 68.00\n",
      "30.00 -> 86.00\n",
      "40.00 -> 104.00\n",
      "50.00 -> 122.00\n"
     ]
    }
   ],
   "source": [
    "def cel2fah(cel):\n",
    "    fahr = (9/5) * cel + 32\n",
    "    return fahr\n",
    "\n",
    "for cel in range(0,60,10):\n",
    "    print('{0:5.2f} -> {1:5.2f}'.format(cel,cel2fah(cel)))"
   ]
  },
  {
   "cell_type": "code",
   "execution_count": 68,
   "id": "df0a4742-abbc-4ef1-8e23-969f213585eb",
   "metadata": {},
   "outputs": [
    {
     "data": {
      "text/plain": [
       "120"
      ]
     },
     "execution_count": 68,
     "metadata": {},
     "output_type": "execute_result"
    }
   ],
   "source": [
    "def factorial(n):\n",
    "    fact = 1 \n",
    "    for k in range(n, 0, -1):\n",
    "        fact = fact * k\n",
    "    return fact\n",
    "\n",
    "factorial(5)\n",
    "        "
   ]
  },
  {
   "cell_type": "markdown",
   "id": "77b29df1-7b5e-4b5a-8a44-4343c1bc6632",
   "metadata": {},
   "source": [
    "# "
   ]
  }
 ],
 "metadata": {
  "kernelspec": {
   "display_name": "Python 3 (ipykernel)",
   "language": "python",
   "name": "python3"
  },
  "language_info": {
   "codemirror_mode": {
    "name": "ipython",
    "version": 3
   },
   "file_extension": ".py",
   "mimetype": "text/x-python",
   "name": "python",
   "nbconvert_exporter": "python",
   "pygments_lexer": "ipython3",
   "version": "3.12.4"
  }
 },
 "nbformat": 4,
 "nbformat_minor": 5
}
