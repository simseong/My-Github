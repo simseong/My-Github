{
 "cells": [
  {
   "cell_type": "markdown",
   "id": "01062771-6368-4f60-925d-d015435cf609",
   "metadata": {},
   "source": [
    "## 오늘 배운 내용\n",
    "1. 조건식에서 in 사용법을 배웠다\n",
    "2. 코드는 되도록 읽기 쉽게 짜는것이 좋다"
   ]
  },
  {
   "cell_type": "markdown",
   "id": "fcc51883-bf06-496a-ab33-fd35163c31e1",
   "metadata": {},
   "source": [
    "## 어려운점\n",
    "1.5번 문제에서 복권 당첨에 따라 다른 값이 나오게 하는게 어려웠다"
   ]
  },
  {
   "cell_type": "markdown",
   "id": "5fd9d657-5f75-48a0-a83c-e37e592e0a7b",
   "metadata": {},
   "source": [
    "## 조건문의 세 가지 형식을 적어라\n",
    "1.if   조건식 ;   \n",
    "2.if 조건식;  부울  \n",
    "3.if elif else  "
   ]
  },
  {
   "cell_type": "markdown",
   "id": "d81aa22a-a6b9-46a9-b042-914a302ac034",
   "metadata": {},
   "source": [
    "## 주관식문제\n",
    "1.순차구조   \n",
    "2.선택구조   \n",
    "3.반복구조   \n",
    "4.조건식 ,부울   \n",
    "5.참 , 거짓   \n",
    "6. = , ==\n",
    "7.if-else-elif\n",
    "8.:   \n",
    "9.if , else   \n",
    "10.elif   \n",
    "11 중첩if문, 내부조건문\n",
    "12. import turtle"
   ]
  },
  {
   "cell_type": "code",
   "execution_count": 18,
   "id": "d755832f-2e7a-43c0-8ca4-820e3e4945ee",
   "metadata": {},
   "outputs": [
    {
     "name": "stdin",
     "output_type": "stream",
     "text": [
      "알파벳을 입력하세요 a\n"
     ]
    },
    {
     "name": "stdout",
     "output_type": "stream",
     "text": [
      "a 는 모음입니다.\n"
     ]
    }
   ],
   "source": [
    "#1\n",
    "a=input('알파벳을 입력하세요')\n",
    "if a in'aeiou':\n",
    "    print(a,'는 모음입니다.')\n",
    "else:\n",
    "    print(a,'는 자음입니다.')\n",
    "+\n"
   ]
  },
  {
   "cell_type": "code",
   "execution_count": 24,
   "id": "af31e924-35a9-4b09-ad43-b53bb082dcbf",
   "metadata": {},
   "outputs": [
    {
     "name": "stdin",
     "output_type": "stream",
     "text": [
      "년도을 입력하세요:  20202020202020020202020000200202020222020204040\n"
     ]
    },
    {
     "name": "stdout",
     "output_type": "stream",
     "text": [
      "20202020202020020202020000200202020222020204040 는 윤년입니다.\n"
     ]
    }
   ],
   "source": [
    "#4\n",
    "a = int(input('년도을 입력하세요: '))\n",
    "if (a % 4 == 0) and (a % 100 != 0) or (a % 400 == 0):\n",
    "    print(a,'는 윤년입니다.')\n",
    "else:\n",
    "    print(a,'는 윤년이 아닙니다.')"
   ]
  },
  {
   "cell_type": "code",
   "execution_count": 30,
   "id": "f08c0da9-b7b4-4ba5-b0f5-b7f6ed8ac143",
   "metadata": {},
   "outputs": [
    {
     "name": "stdin",
     "output_type": "stream",
     "text": [
      "나이를 입력하세요 0\n"
     ]
    },
    {
     "name": "stdout",
     "output_type": "stream",
     "text": [
      "kid\n"
     ]
    }
   ],
   "source": [
    "#3\n",
    "age = int(input('나이를 입력하세요'))\n",
    "if age >= 20:\n",
    "    print('adult')\n",
    "elif age < 20 and age >= 10:\n",
    "    print('youth')\n",
    "else:\n",
    "    print('kid')"
   ]
  },
  {
   "cell_type": "code",
   "execution_count": 61,
   "id": "4690fa8c-7d15-491b-88b6-871ae288440e",
   "metadata": {},
   "outputs": [
    {
     "name": "stdin",
     "output_type": "stream",
     "text": [
      "세 복권 번호를 입력하시오 1 4 5\n"
     ]
    },
    {
     "name": "stdout",
     "output_type": "stream",
     "text": [
      "꽝\n"
     ]
    }
   ],
   "source": [
    "#5\n",
    "import random\n",
    "a, b, c= random.randint(0,9),random.randint(0,9),random.randint(0,9)\n",
    "x,y,z=input('세 복권 번호를 입력하시오').split()\n",
    "x=int(x)\n",
    "y=int(y)\n",
    "z=int(z)\n",
    "count = 0\n",
    "if x==a or x==b or x==c: \n",
    "    count = count + 1\n",
    "if y==a or y==b or y==c: \n",
    "    count = count + 1\n",
    "if z==a or z==b or z==c: \n",
    "    count = count + 1\n",
    "if count == 3:\n",
    "    print('1억원')\n",
    "elif count == 2:\n",
    "    print('1천만원')\n",
    "elif count == 1:\n",
    "    print('1만원')\n",
    "else:\n",
    "    print('꽝')"
   ]
  },
  {
   "cell_type": "code",
   "execution_count": 59,
   "id": "81786d21-9b33-43ba-8414-6530f76a94d9",
   "metadata": {},
   "outputs": [
    {
     "name": "stdin",
     "output_type": "stream",
     "text": [
      "숫자를 입력하세요 5\n",
      "숫자를 입력하세요 1\n"
     ]
    },
    {
     "name": "stdout",
     "output_type": "stream",
     "text": [
      "5 1\n"
     ]
    }
   ],
   "source": [
    "a= int(input('숫자를 입력하세요'))\n",
    "b= int(input('숫자를 입력하세요'))\n",
    "if a > b:\n",
    "    print(a,b)\n",
    "else:\n",
    "    print(b,a)"
   ]
  },
  {
   "cell_type": "code",
   "execution_count": null,
   "id": "e0e174b6-740c-4020-aa36-9516e962c8da",
   "metadata": {},
   "outputs": [],
   "source": []
  }
 ],
 "metadata": {
  "kernelspec": {
   "display_name": "Python 3 (ipykernel)",
   "language": "python",
   "name": "python3"
  },
  "language_info": {
   "codemirror_mode": {
    "name": "ipython",
    "version": 3
   },
   "file_extension": ".py",
   "mimetype": "text/x-python",
   "name": "python",
   "nbconvert_exporter": "python",
   "pygments_lexer": "ipython3",
   "version": "3.12.4"
  }
 },
 "nbformat": 4,
 "nbformat_minor": 5
}
