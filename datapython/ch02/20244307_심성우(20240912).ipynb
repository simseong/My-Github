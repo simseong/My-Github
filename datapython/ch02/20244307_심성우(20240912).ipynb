{
 "cells": [
  {
   "cell_type": "markdown",
   "id": "69325e72-35fc-4f18-9150-86eae97c7d8d",
   "metadata": {},
   "source": [
    "# 20244307 심성우(20240912)"
   ]
  },
  {
   "cell_type": "markdown",
   "id": "a67f70c5-26af-4832-9645-c60b9c7d4f8a",
   "metadata": {},
   "source": [
    "### 오늘 배운 내용\n"
   ]
  },
  {
   "cell_type": "code",
   "execution_count": null,
   "id": "4806922c-12e4-4eb2-bee5-2a3697b75645",
   "metadata": {},
   "outputs": [],
   "source": [
    "-섭씨를 화씨로 바꾸는 식을 배웠다\n",
    "-변수의 이름을 짓는 규칙을 배웠다       "
   ]
  },
  {
   "cell_type": "markdown",
   "id": "ee6856e0-1371-428e-a88d-fd287331e6b2",
   "metadata": {},
   "source": [
    "### 어러운 점들"
   ]
  },
  {
   "cell_type": "markdown",
   "id": "f54db6c4-b300-47a8-a03c-6973c6ecd61a",
   "metadata": {},
   "source": [
    "없다."
   ]
  },
  {
   "cell_type": "markdown",
   "id": "3c1e08bb-b29b-4690-8da3-15f7e0126794",
   "metadata": {},
   "source": [
    "### 주관식 문제"
   ]
  },
  {
   "cell_type": "markdown",
   "id": "45d4353c-3a6f-4963-8086-120cff1bb9ba",
   "metadata": {},
   "source": [
    "   2.1 변수"
   ]
  },
  {
   "cell_type": "markdown",
   "id": "df6dca50-fde1-4f55-aff5-b7b378fc17cb",
   "metadata": {},
   "source": [
    "2.2 할당 연산자, 대입 연산자"
   ]
  },
  {
   "cell_type": "markdown",
   "id": "0025ec5d-d23c-46ea-8650-ab1eabb87bc0",
   "metadata": {},
   "source": [
    "2.3 동시 할당문"
   ]
  },
  {
   "cell_type": "markdown",
   "id": "a2240a38-477f-4eec-97a1-fb3062a531a7",
   "metadata": {},
   "source": [
    "2.4 식별자"
   ]
  },
  {
   "cell_type": "markdown",
   "id": "58dfbf95-2bdd-4517-8ac1-ecdae61bcb39",
   "metadata": {},
   "source": [
    "2.5 함수"
   ]
  },
  {
   "cell_type": "markdown",
   "id": "b1a5c61b-2c1c-4c61-9337-9202233c0ea8",
   "metadata": {},
   "source": [
    "2.6 메인메모리"
   ]
  },
  {
   "cell_type": "markdown",
   "id": "f782a820-05c0-4ae1-9ad6-bf512d8c5979",
   "metadata": {},
   "source": [
    "2.7 자료형 "
   ]
  },
  {
   "cell_type": "markdown",
   "id": "86486877-496a-4bd9-9696-0ced11ce0603",
   "metadata": {},
   "source": [
    "2.8 정수형 실수형 문자형 부울형"
   ]
  },
  {
   "cell_type": "markdown",
   "id": "aa33edc9-fd50-43b7-bddf-a895086333b2",
   "metadata": {},
   "source": [
    "2.9 type()"
   ]
  },
  {
   "cell_type": "markdown",
   "id": "f4ef20bb-8cd5-4587-81a4-2328203f9d8d",
   "metadata": {},
   "source": [
    "2.10 메소드"
   ]
  },
  {
   "cell_type": "markdown",
   "id": "5178be82-8321-4b63-a8d2-3afae4763997",
   "metadata": {},
   "source": [
    "2.11 상수"
   ]
  },
  {
   "cell_type": "markdown",
   "id": "e6d89670-1ab0-4684-8789-38151a78918b",
   "metadata": {},
   "source": [
    "### 변수의 이름 짓는법\n",
    "-식별자는 문자와 숫자, 밑줄믄자(_)로 이루어지며 밑줄 문자 이외의 특수 문자를 사용할 수 없다.   \n",
    "-식별자의 첫 글자는 숫자로 시작할 수 없다. 또한 중간에 공백을 가질 수 없다.   \n",
    "-대문자와 소문자는 구별된다. 따라서 변수 index 와 INDEX는 구별된다.   \n",
    "-파이썬의 예약어(키워드)는 식별자로 사용할 수 없다.   "
   ]
  },
  {
   "cell_type": "markdown",
   "id": "dea26dbe-2c35-4767-a161-18a82b56ff12",
   "metadata": {},
   "source": [
    "### 2장 심화문제"
   ]
  },
  {
   "cell_type": "code",
   "execution_count": 7,
   "id": "5a212624-cce7-4c23-b70f-85ba120f9b57",
   "metadata": {},
   "outputs": [
    {
     "name": "stdout",
     "output_type": "stream",
     "text": [
      "200 + 300 + 400 = 900\n"
     ]
    }
   ],
   "source": [
    "# 2.1\n",
    "print('200','+','300','+','400','=',200+300+400)"
   ]
  },
  {
   "cell_type": "code",
   "execution_count": 9,
   "id": "dc4fc42b-b386-4fd6-aaf5-8dc6ec6667b2",
   "metadata": {},
   "outputs": [
    {
     "name": "stdout",
     "output_type": "stream",
     "text": [
      "30\n",
      "60\n"
     ]
    }
   ],
   "source": [
    "# 2.2\n",
    "width = 30\n",
    "height= 60\n",
    "print(width)\n",
    "print(height)"
   ]
  },
  {
   "cell_type": "code",
   "execution_count": 19,
   "id": "70b16774-292a-4e44-a71a-5a8005b65fc8",
   "metadata": {},
   "outputs": [
    {
     "name": "stdout",
     "output_type": "stream",
     "text": [
      "30\n",
      "60\n"
     ]
    }
   ],
   "source": [
    "#2.3\n",
    "width , height = 30, 60\n",
    "print(width)\n",
    "print(height)"
   ]
  },
  {
   "cell_type": "code",
   "execution_count": 15,
   "id": "9657dc03-6440-47d1-b09b-8efa59dcf494",
   "metadata": {},
   "outputs": [
    {
     "name": "stdout",
     "output_type": "stream",
     "text": [
      "삼각형의 면적: 400.0\n"
     ]
    }
   ],
   "source": [
    "#2.4\n",
    "width = 40\n",
    "height = 20\n",
    "area = width* height /2\n",
    "print('삼각형의 면적:', area)\n"
   ]
  },
  {
   "cell_type": "code",
   "execution_count": 23,
   "id": "d7c7709f-40f1-422a-a986-e941fb171d80",
   "metadata": {},
   "outputs": [
    {
     "name": "stdin",
     "output_type": "stream",
     "text": [
      "정사각형의 밑변을 입력하시오: 40\n"
     ]
    },
    {
     "name": "stdout",
     "output_type": "stream",
     "text": [
      "정사각형의 면적: 1600\n"
     ]
    }
   ],
   "source": [
    "#2.5\n",
    "a = int(input('정사각형의 밑변을 입력하시오:'))\n",
    "print('정사각형의 면적:',a*a)"
   ]
  },
  {
   "cell_type": "code",
   "execution_count": 25,
   "id": "13f7dec1-d04c-4734-8478-84f57b239019",
   "metadata": {},
   "outputs": [
    {
     "name": "stdout",
     "output_type": "stream",
     "text": [
      "1에서 10까지의 합: 55\n"
     ]
    }
   ],
   "source": [
    "#2.6\n",
    "print('1에서 10까지의 합:',1+2+3+4+5+6+7+8+9+10)"
   ]
  },
  {
   "cell_type": "code",
   "execution_count": 29,
   "id": "d6367686-8832-4c82-8c47-86dc29902714",
   "metadata": {},
   "outputs": [
    {
     "name": "stdout",
     "output_type": "stream",
     "text": [
      "10! = 3628800\n"
     ]
    }
   ],
   "source": [
    "#2.7\n",
    "print('10! =',1*2*3*4*5*6*7*8*9*10)"
   ]
  },
  {
   "cell_type": "code",
   "execution_count": 49,
   "id": "4dd35125-cbb2-471e-9ee5-eb863a72e938",
   "metadata": {},
   "outputs": [
    {
     "name": "stdout",
     "output_type": "stream",
     "text": [
      "섭씨 화씨\n",
      "0 32.0\n",
      "10 50.0\n",
      "20 68.0\n",
      "30 86.0\n",
      "40 104.0\n",
      "50 122.0\n"
     ]
    }
   ],
   "source": [
    "#2.8\n",
    "print('섭씨 화씨')\n",
    "celsius=0\n",
    "\n",
    "for i in range(0,6):\n",
    "    faheenheit= (9/5)* celsius + 32\n",
    "    print(celsius,faheenheit)\n",
    "    celsius=celsius+10"
   ]
  },
  {
   "cell_type": "code",
   "execution_count": 72,
   "id": "0125a51f-5ffb-4812-9112-a20c991b4b94",
   "metadata": {},
   "outputs": [
    {
     "name": "stdin",
     "output_type": "stream",
     "text": [
      "섭씨온도를 입력하세요: 32\n"
     ]
    },
    {
     "name": "stdout",
     "output_type": "stream",
     "text": [
      "섭씨 온도는 32 화씨 온도는 89.6 입니다.\n"
     ]
    }
   ],
   "source": [
    "#2.9\n",
    "celsius=int(input('섭씨온도를 입력하세요:'))\n",
    "faheenheit= (9/5)* celsius + 32\n",
    "\n",
    "\n",
    "print('섭씨 온도는' ,celsius, '화씨 온도는',faheenheit, '입니다.')"
   ]
  },
  {
   "cell_type": "code",
   "execution_count": 55,
   "id": "9ca2d387-e4a4-4859-b955-e285aecc476e",
   "metadata": {},
   "outputs": [
    {
     "name": "stdin",
     "output_type": "stream",
     "text": [
      "원의 반지름을 입력하세요: 11\n"
     ]
    },
    {
     "name": "stdout",
     "output_type": "stream",
     "text": [
      "원의 둘레 = 69.115024 원의 면적 = 380.132632\n"
     ]
    }
   ],
   "source": [
    "#2.10\n",
    "r=int(input('원의 반지름을 입력하세요:'))\n",
    "PI=3.141592\n",
    "print('원의 둘레 =',2*PI*r,'원의 면적 =',PI*r**2)"
   ]
  },
  {
   "cell_type": "code",
   "execution_count": 70,
   "id": "b9685e8c-0d89-4b28-9198-0fcd7dc2dae7",
   "metadata": {},
   "outputs": [
    {
     "name": "stdout",
     "output_type": "stream",
     "text": [
      "It's really hot!\n",
      "I said \"Hello!\" to him.\n",
      "He said \"What's there?\"\n",
      "Newline character is \\n, Tap character is \\t.\n",
      "Working directory is C:workspace\\mywork.\n"
     ]
    }
   ],
   "source": [
    "#2.11\n",
    "print('It\\'s really hot!')\n",
    "print('I said \"Hello!\" to him.')\n",
    "print('He said \\\"What\\'s there?\\\"')\n",
    "print('Newline character is \\\\n, Tap character is \\\\t.')\n",
    "print('Working directory is C:workspace\\\\mywork.')"
   ]
  },
  {
   "cell_type": "code",
   "execution_count": null,
   "id": "a479aea5-52f9-431f-8ff6-37da6a013366",
   "metadata": {},
   "outputs": [],
   "source": []
  }
 ],
 "metadata": {
  "kernelspec": {
   "display_name": "Python 3 (ipykernel)",
   "language": "python",
   "name": "python3"
  },
  "language_info": {
   "codemirror_mode": {
    "name": "ipython",
    "version": 3
   },
   "file_extension": ".py",
   "mimetype": "text/x-python",
   "name": "python",
   "nbconvert_exporter": "python",
   "pygments_lexer": "ipython3",
   "version": "3.12.4"
  }
 },
 "nbformat": 4,
 "nbformat_minor": 5
}
