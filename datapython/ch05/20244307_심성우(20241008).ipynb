{
 "cells": [
  {
   "cell_type": "markdown",
   "id": "7b6c1e15-66d4-4407-a539-b406a84956e7",
   "metadata": {},
   "source": [
    "## 20244307_심성우(20241008)\n",
    "- 5장 -여러 번 반복하는 일을 하자.\n",
    "- 심성우\n",
    "- 20244307"
   ]
  },
  {
   "cell_type": "markdown",
   "id": "2ca3c5d7-179e-4594-816f-3d25de1c964e",
   "metadata": {},
   "source": [
    "## 오늘 배운 내용\n",
    "1.반복분의 두가지 형식을 배웠다.\n",
    "2.반복 루프를 제어하는 break,continue를 배웠다"
   ]
  },
  {
   "cell_type": "markdown",
   "id": "7fc6b915-7c2d-45cd-8428-cf285fd3f6af",
   "metadata": {},
   "source": [
    "## 어려운 점들\n",
    "1. 문제를 풀 때 while문 뒤에 조건식을 만드는게 어려웠다."
   ]
  },
  {
   "cell_type": "markdown",
   "id": "189404f6-e7b1-4e05-969b-434d5b171f0c",
   "metadata": {},
   "source": [
    "## 요점 정리\n",
    "### 1) 반복문의 두가지 형식을 적어라   \n",
    "1. for 식별자 in 반복가능하 것(iterable):\n",
    "2. while 조건식: \n",
    "\n",
    "### 2) 두 가지 반복문의 중요한 특징을 적어라\n",
    "1. for문은 횟수를 정해놓고 반복시킴\n",
    "2. while문은 조건에 따라 반복시킴\n",
    "\n",
    "### 3) 반복 루프를 제어하는 두가지 키워드를 찾아서 적고 그 특징을 설명하자\n",
    "1. break\n",
    "2. continue\n",
    "\n",
    "### 4) range 함수에 대하여 찾아서 형식을 써라\n",
    "1. range(시작값,끝값,증가분)\n"
   ]
  },
  {
   "cell_type": "markdown",
   "id": "56046259-751e-4785-b417-1ee529f9bceb",
   "metadata": {},
   "source": [
    "### 주관식 문제\n",
    "1. for문\n",
    "2. while문\n",
    "3. loop(루프)\n",
    "4. 블록\n",
    "5. :\n",
    "6. range\n",
    "7. 무한 루프\n",
    "8. True\n",
    "9. break continue break\n",
    "10. contunue\n",
    "11. format\n",
    "12. 부동소숫점"
   ]
  },
  {
   "cell_type": "markdown",
   "id": "a10d0004-626c-4a1a-a7a4-6a6e9971ef57",
   "metadata": {},
   "source": [
    "## 심화문제"
   ]
  },
  {
   "cell_type": "code",
   "execution_count": 20,
   "id": "1ada6169-c5d2-4637-9d63-275556437748",
   "metadata": {},
   "outputs": [
    {
     "name": "stdout",
     "output_type": "stream",
     "text": [
      "1 3 5 7 9 11 13 15 17 19 21 23 25 27 29 31 33 35 37 39 41 43 45 47 49 51 53 55 57 59 61 63 65 67 69 71 73 75 77 79 81 83 85 87 89 91 93 95 97 99 "
     ]
    }
   ],
   "source": [
    "for i in range (1,100):\n",
    "    if i % 2 == 1:\n",
    "        print(i, end = ' ')"
   ]
  },
  {
   "cell_type": "code",
   "execution_count": 26,
   "id": "37b0218e-05d4-4830-9b07-b94096c4cd15",
   "metadata": {},
   "outputs": [
    {
     "name": "stdout",
     "output_type": "stream",
     "text": [
      "0 2 4 6 8 10 12 14 16 18 20 22 24 26 28 30 32 34 36 38 40 42 44 46 48 50 52 54 56 58 60 62 64 66 68 70 72 74 76 78 80 82 84 86 88 90 92 94 96 98 100 "
     ]
    }
   ],
   "source": [
    "i = 0\n",
    "while i < 101:\n",
    "    print(i, end = ' ')\n",
    "    i = i + 2\n",
    "    "
   ]
  },
  {
   "cell_type": "code",
   "execution_count": 32,
   "id": "312f3fad-13ca-4ed2-ac67-ca4816b1898f",
   "metadata": {},
   "outputs": [
    {
     "name": "stdout",
     "output_type": "stream",
     "text": [
      "2 4 6 8 10 12 14 16 18 20 22 24 26 28 30 32 34 36 38 40 42 44 46 48 50 52 54 56 58 60 62 64 66 68 70 72 74 76 78 80 82 84 86 88 90 92 94 96 98 100 "
     ]
    }
   ],
   "source": [
    "for i in range(1,101):\n",
    " if i % 2 == 0:\n",
    "     print(i, end = ' ')"
   ]
  },
  {
   "cell_type": "code",
   "execution_count": 34,
   "id": "0ced7669-a21e-4d37-a079-4e1132c45cf6",
   "metadata": {},
   "outputs": [
    {
     "name": "stdout",
     "output_type": "stream",
     "text": [
      "1 3 5 7 9 11 13 15 17 19 21 23 25 27 29 31 33 35 37 39 41 43 45 47 49 51 53 55 57 59 61 63 65 67 69 71 73 75 77 79 81 83 85 87 89 91 93 95 97 99 "
     ]
    }
   ],
   "source": [
    "i = 1\n",
    "while i < 101:\n",
    "    print(i, end = ' ')\n",
    "    i = i + 2"
   ]
  },
  {
   "cell_type": "code",
   "execution_count": 56,
   "id": "505995d6-9950-4033-bd21-59b9acfc6854",
   "metadata": {},
   "outputs": [
    {
     "name": "stdout",
     "output_type": "stream",
     "text": [
      "2500\n"
     ]
    }
   ],
   "source": [
    "s = 0\n",
    "for i in range(1,101):\n",
    "    if i % 2 == 1: \n",
    "        s= s + i\n",
    "print(s)\n",
    "        "
   ]
  },
  {
   "cell_type": "code",
   "execution_count": 54,
   "id": "106fce98-8d81-4503-8ac7-614335f0e08c",
   "metadata": {},
   "outputs": [
    {
     "name": "stdout",
     "output_type": "stream",
     "text": [
      "1에서 100까지의 수 중에서 홀수 합 : 2500\n"
     ]
    }
   ],
   "source": [
    "i = 1\n",
    "s = 0\n",
    "while i < 100:\n",
    "    if i % 2 ==1:\n",
    "        s = s + i\n",
    "    i = i+ 1\n",
    "print('1에서 100까지의 수 중에서 홀수 합 :',s)"
   ]
  },
  {
   "cell_type": "code",
   "execution_count": 58,
   "id": "907759b8-f38f-481c-bcf8-569d207c4a6d",
   "metadata": {},
   "outputs": [
    {
     "name": "stdout",
     "output_type": "stream",
     "text": [
      "2550\n"
     ]
    }
   ],
   "source": [
    "s = 0\n",
    "for i in range(1,101):\n",
    "    if i % 2 == 0: \n",
    "        s= s + i\n",
    "print(s)\n",
    "        "
   ]
  },
  {
   "cell_type": "code",
   "execution_count": 62,
   "id": "c2b84c30-81fc-4d85-aec1-0f307b56cd28",
   "metadata": {},
   "outputs": [
    {
     "name": "stdout",
     "output_type": "stream",
     "text": [
      "1에서 100까지의 수 중에서 짝수 합 : 2550\n"
     ]
    }
   ],
   "source": [
    "i = 1\n",
    "s = 0\n",
    "while i < 101:\n",
    "    if i % 2 ==0:\n",
    "        s = s + i\n",
    "    i = i+ 1\n",
    "print('1에서 100까지의 수 중에서 짝수 합 :',s)"
   ]
  },
  {
   "cell_type": "code",
   "execution_count": 74,
   "id": "a7744318-dac6-47c9-8c09-90968cec1b63",
   "metadata": {},
   "outputs": [
    {
     "name": "stdin",
     "output_type": "stream",
     "text": [
      "숫자를 입력하세요 : 5\n"
     ]
    },
    {
     "name": "stdout",
     "output_type": "stream",
     "text": [
      "*\n",
      "**\n",
      "***\n",
      "****\n",
      "*****\n"
     ]
    }
   ],
   "source": [
    "a= int(input('숫자를 입력하세요 :'))\n",
    "for i in range(1,a+1):\n",
    "    print('*'*i)"
   ]
  },
  {
   "cell_type": "code",
   "execution_count": 122,
   "id": "3c698b0f-ff22-4241-98b6-8f775931a76c",
   "metadata": {},
   "outputs": [
    {
     "name": "stdin",
     "output_type": "stream",
     "text": [
      "숫자를 입력하세요 : 3\n"
     ]
    },
    {
     "name": "stdout",
     "output_type": "stream",
     "text": [
      "    *\n",
      "   **\n",
      "  ***\n"
     ]
    }
   ],
   "source": [
    "a= int(input('숫자를 입력하세요 :'))\n",
    "for i in range(1,a+1):\n",
    "    print(' '*(5-i) + '*'*i)"
   ]
  },
  {
   "cell_type": "code",
   "execution_count": 124,
   "id": "2f0e7596-cd7b-461e-80ec-e93c8d9bff0b",
   "metadata": {},
   "outputs": [
    {
     "name": "stdout",
     "output_type": "stream",
     "text": [
      "day: 1 달팽이의 위치: 7 미터\n",
      "day: 2 달팽이의 위치: 9 미터\n",
      "day: 3 달팽이의 위치: 11 미터\n",
      "day: 4 달팽이의 위치: 13 미터\n",
      "day: 5 달팽이의 위치: 15 미터\n",
      "day: 6 달팽이의 위치: 17 미터\n",
      "day: 7 달팽이의 위치: 19 미터\n",
      "day: 8 달팽이의 위치: 21 미터\n",
      "day: 9 달팽이의 위치: 23 미터\n",
      "day: 10 달팽이의 위치: 25 미터\n",
      "day: 11 달팽이의 위치: 27 미터\n",
      "day: 12 달팽이의 위치: 29 미터\n",
      "day: 13 달팽이의 위치: 31 미터\n",
      "축하합니다. 우물을 탈출하였습니다.\n",
      "우물을 탈출하는 데 걸린 날은 13 입니다\n"
     ]
    }
   ],
   "source": [
    "i = 0\n",
    "day = 1\n",
    "while  i < 30:\n",
    "    i =  i + 7\n",
    "    print(\"day: {} 달팽이의 위치: {} 미터\".format(day,i))\n",
    "    if i > 30:\n",
    "        break\n",
    "    i = i - 5\n",
    "    day = day + 1\n",
    "    \n",
    "print('축하합니다. 우물을 탈출하였습니다.')   \n",
    "print('우물을 탈출하는 데 걸린 날은 {} 입니다'.format(day))\n",
    "    \n",
    "    "
   ]
  },
  {
   "cell_type": "code",
   "execution_count": 137,
   "id": "beff5cc9-453c-47e6-a93e-b48758d067fb",
   "metadata": {},
   "outputs": [
    {
     "name": "stdout",
     "output_type": "stream",
     "text": [
      "153 370 371 407 "
     ]
    }
   ],
   "source": [
    "for n in range(100, 1000):\n",
    "    x = n // 100\n",
    "    y = (n-x*100) // 10\n",
    "    z = n % 10\n",
    "    if n== (x**3 + y**3 + z**3):\n",
    "        print(n, end = ' ') "
   ]
  },
  {
   "cell_type": "code",
   "execution_count": 141,
   "id": "9c496683-2f82-4798-9700-1c781f717d5e",
   "metadata": {},
   "outputs": [
    {
     "data": {
      "text/plain": [
       "'432121'"
      ]
     },
     "execution_count": 141,
     "metadata": {},
     "output_type": "execute_result"
    }
   ],
   "source": [
    "str(121234)[::-1]"
   ]
  },
  {
   "cell_type": "code",
   "execution_count": null,
   "id": "54eb4cc9-778f-4cfd-b30c-b76abbfd4a68",
   "metadata": {},
   "outputs": [],
   "source": []
  }
 ],
 "metadata": {
  "kernelspec": {
   "display_name": "Python 3 (ipykernel)",
   "language": "python",
   "name": "python3"
  },
  "language_info": {
   "codemirror_mode": {
    "name": "ipython",
    "version": 3
   },
   "file_extension": ".py",
   "mimetype": "text/x-python",
   "name": "python",
   "nbconvert_exporter": "python",
   "pygments_lexer": "ipython3",
   "version": "3.12.4"
  }
 },
 "nbformat": 4,
 "nbformat_minor": 5
}
