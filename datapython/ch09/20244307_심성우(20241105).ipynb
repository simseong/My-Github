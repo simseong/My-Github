{
 "cells": [
  {
   "cell_type": "markdown",
   "id": "bee22bdc-1511-4df4-b109-da89e174a0b4",
   "metadata": {},
   "source": [
    "### 20244307_심성우(20241105)\n",
    "- 10장 넘파이로 수치 데이터를 처리해보자\n",
    "- 심성우\n",
    "- 20244307\n"
   ]
  },
  {
   "cell_type": "markdown",
   "id": "f5c0d7ad-306b-45ad-b60e-a966e7235adf",
   "metadata": {},
   "source": [
    "## 오늘 배운 내용\n",
    "- 넘파이와 리스트의 차이점과 넘파이의 사용방법을 배웠다\n",
    "- 넘파이의 중요한 메소드 사용법을 배웠다\n",
    "- "
   ]
  },
  {
   "cell_type": "markdown",
   "id": "7d990363-afb7-4b6e-8391-fccbd7d43b15",
   "metadata": {},
   "source": [
    "## 어려운 점들\n"
   ]
  },
  {
   "cell_type": "markdown",
   "id": "dbe2f3f1-f0e9-4fb3-935c-fd1f1db1df52",
   "metadata": {},
   "source": [
    "## 요점 정리\n",
    "## 1) 리스트와 numoy array의 차이는 무엇인가?\n",
    "\n",
    "Python에서 리스트(list)와 NumPy 배열(numpy array)은 둘 다 여러 값을 저장할 수 있는 자료 구조지만, 용도와 성능 면에서 차이가 있습니다.\n",
    "\n",
    "자료형의 일관성:\n",
    "\n",
    "리스트는 다양한 자료형을 섞어 저장할 수 있습니다. 예를 들어, 같은 리스트에 정수, 문자열, 실수를 모두 포함할 수 있습니다.\n",
    "NumPy 배열은 보통 동일한 자료형의 요소들만 담습니다. 모든 요소가 같은 자료형이어야 하므로, 연산 수행에 유리합니다.\n",
    "속도 및 성능:\n",
    "\n",
    "리스트는 Python 내장 자료형으로, 요소를 하나씩 접근하거나 수정할 때 속도가 비교적 느립니다.\n",
    "NumPy 배열은 C로 구현되어 있어, 수치 연산을 할 때 리스트보다 훨씬 빠릅니다. 특히, 대규모 배열 연산에서는 큰 성능 차이가 납니다.\n",
    "연산 지원:\n",
    "\n",
    "리스트는 요소별로 직접 수학 연산을 지원하지 않습니다. 예를 들어, 리스트의 모든 요소에 2를 더하려면 반복문을 사용해야 합니다.\n",
    "NumPy 배열은 벡터화 연산을 지원하여 배열 전체에 대한 수학 연산이 가능합니다. 예를 들어, 배열에 +2 연산을 적용하면 모든 요소에 2가 더해집니다.\n",
    "메모리 효율성:\n",
    "\n",
    "리스트는 포인터 배열 구조로 저장되어 각 요소가 별도의 메모리 위치를 가질 수 있습니다.\n",
    "NumPy 배열은 연속된 메모리 블록에 저장되므로, 대규모 데이터에 대해 더 메모리 효율적입니다.\n",
    "요약하면, 리스트는 유연성이 크고 다양한 자료형을 저장할 수 있지만, 수치 연산에서는 속도가 느립니다. 반면, NumPy 배열은 주로 수치 계산에서 빠른 성능을 제공하도록 설계되어 있어, 데이터 분석과 과학 계산에 적합합니다.\n",
    "## 2) numpy의 array를 이용한 연산이 빠른이유는 무엇인가?\n",
    "\n",
    "1. 연속된 메모리 구조\n",
    "NumPy 배열은 메모리에 연속적으로 저장되며, 요소가 같은 자료형을 사용하기 때문에 메모리 접근 속도가 빠릅니다.\n",
    "Python 리스트는 포인터 배열로 이루어져 있어, 각 요소가 분산된 위치에 저장될 수 있습니다. 이 때문에 각 요소에 접근할 때 포인터를 참조해야 해서 더 느립니다.\n",
    "\n",
    "2. 벡터화 연산 (Vectorization)\n",
    "NumPy는 **벡터화(vectorization)**를 지원합니다. 벡터화란 반복문을 사용하지 않고 배열 전체에 대해 한 번에 연산을 수행하는 방식입니다.\n",
    "NumPy는 내부적으로 C로 구현되어 있어, 벡터화된 연산은 반복문을 직접 사용하는 것보다 훨씬 빠르게 작동합니다.\n",
    "\n",
    "3. 브로드캐스팅(Broadcasting)\n",
    "브로드캐스팅은 서로 다른 크기의 배열 간 연산을 지원하는 NumPy의 기능입니다. 예를 들어, 배열 전체에 스칼라 값을 더할 때, 반복문을 사용하지 않고도 자동으로 모든 요소에 값을 더할 수 있습니다.\n",
    "이 과정에서 NumPy는 추가 메모리 할당 없이 연산을 수행해 효율적입니다.\n",
    "\n",
    "4. 저수준 언어(C/C++)로 구현된 함수들\n",
    "NumPy는 대규모 연산을 위해 C와 C++로 작성된 최적화된 함수들을 사용합니다. Python의 고수준 인터프리터보다 훨씬 빠른 성능을 제공합니다.\n",
    "NumPy 배열을 사용할 때는 Python 코드가 아니라 C/C++ 코드를 호출하여 실행되기 때문에 속도가 훨씬 빠릅니다.\n",
    "\n",
    "5. 멀티스레드 활용\n",
    "NumPy는 많은 경우 내부적으로 멀티스레딩을 지원해, 여러 CPU 코어를 활용할 수 있습니다. 특히 대규모 연산에서 연산 속도가 크게 향상됩니다.\n",
    "\n",
    "6. 메모리 캐시 효율성\n",
    "NumPy 배열은 연속된 메모리 블록으로 구성되어 있어 CPU 캐시를 효율적으로 활용할 수 있습니다. CPU는 연속된 메모리 접근을 더 빠르게 수행하므로 캐시 효율이 높아져 성능이 개선됩니다.\n",
    "\n",
    "## 3) 스칼라(scalar), 벡터(vector), 행렬(matrix), 텐서(tensor)은 무엇인가?\n",
    "\n",
    "1. 스칼라 (Scalar)\n",
    "- 정의: 크기만 있는 단일 값입니다.\n",
    "- 차원: 0차원 (0D)입니다.\n",
    "- 사용 예: 온도, 질량, 거리 등의 단일 수치 값.\n",
    "\n",
    "2. 벡터 (Vector)\n",
    "- 정의: 크기와 방향을 가진 값들의 집합으로, 여러 개의 수치가 하나의 행이나 열로 나열된 구조입니다.\n",
    "- 차원: 1차원 (1D)입니다.\n",
    "- 사용 예: 위치, 속도, 특성값 등을 나타낼 때 사용됩니다. \n",
    "\n",
    "3. 행렬 (Matrix)\n",
    "- 정의: 벡터가 모여 행과 열을 가지는 2차원 배열 구조입니다.\n",
    "- 차원: 2차원 (2D)입니다.\n",
    "- 사용 예: 이미지 데이터, 변환 행렬, 머신러닝 모델의 가중치 행렬 등에서 사용됩니다.\n",
    "\n",
    "4. 텐서 (Tensor)\n",
    "- 정의: 3차원 이상의 다차원 배열입니다. 데이터의 차원이 증가하면서 더 복잡한 구조로 확장된 개념입니다.\n",
    "- 차원: 3차원 이상 (3D 이상)입니다.\n",
    "\n",
    "사용 예: 딥러닝에서 대규모 데이터(예: 이미지, 비디오, 시계열 데이터)를 다룰 때 사용됩니다.\n",
    "\n",
    "5. 요약\n",
    "- 스칼라: 단일 값 (0D)\n",
    "- 벡터: 값들의 일렬 배열 (1D)\n",
    "- 행렬: 행과 열로 이루어진 2차원 배열 (2D)\n",
    "- 텐서: 3차원 이상의 다차원 배열 (3D 이상)\n",
    "- 각 개념은 데이터의 구조와 차원에 따라 달라지며, 특히 딥러닝과 같은 분야에서 데이터의 형식을 정의하는 데 중요한 역할을 합니다.\n",
    "\n",
    "## 4) 중요한 메소드\n",
    "\n",
    "- ndim : 배열의 차원 수를 확인합니다.\n",
    "- shape : 배열의 모양(각 차원의 크기)을 나타냅니다.\n",
    "- reshape : 배열의 모양을 변경할 때 사용합니다.\n",
    "- dtype : 배열의 데이터 타입을 확인하거나 지정합니다.\n",
    "## 5) 넘파이 배열(array)의 인덱싱, 슬라이싱에 대하여 설명하라\n",
    "\n",
    "- indexing : 배열의 특정 요소에 접근할 때 사용\n",
    "- 논리 인덱싱(logcal imdexing) : 넘파이의 배열에서 특정한 조건을 주고, 이 조건을 통해서 배열에서 원하는 값을 추려내는 것\n",
    "- slicing : 배열의 일부분을 선택할 때 사용\n",
    "\n",
    "## 6) 평균(mean), 분산(variance), 표준편차(standard deviation), 중앙값(median)은 무엇인지 조사하라 \n",
    "# 평균\n",
    "- 정의: 주어진 데이터 집합의 모든 값을 더한 후 데이터 개수로 나눈 값입니다.\n",
    "- 용도: 데이터의 중심값을 나타내며, 데이터가 어디에 집중되어 있는지를 알려줍니다.\n",
    "\n",
    "# 분산\n",
    "- 정의: 데이터가 평균으로부터 얼마나 퍼져 있는지를 나타내는 값입니다. 평균에서 각 데이터 값의 차이(편차)를 제곱하여 평균한 값입니다.\n",
    "- 용도: 데이터의 흩어짐 정도를 나타냅니다. 분산이 클수록 데이터가 평균에서 더 멀리 퍼져 있는 것을 의미합니다.\n",
    "\n",
    "# 표준편차\n",
    "- 정의: 분산의 제곱근으로, 데이터가 평균으로부터 얼마나 퍼져 있는지를 나타내는 값입니다. 분산의 단위를 데이터의 원래 단위와 동일하게 맞추기 위해 분산에 제곱근을 씌운 값입니다.\n",
    "- 용도: 데이터의 분산 정도를 해석하기 쉽게 나타냅니다. 값이 클수록 데이터의 변동이 크다는 것을 의미합니다\n",
    "\n",
    "# 중앙값\n",
    "- 정의: 데이터를 크기 순으로 나열했을 때 가운데 위치하는 값입니다. 데이터의 개수가 짝수일 경우에는 가운데 두 값의 평균을 사용합니다.\n",
    "- 용도: 평균과 달리, 극단값(아웃라이어)의 영향을 덜 받습니다. 데이터가 어느 쪽으로 편향되어 있는지 파악하는 데 유용합니다."
   ]
  },
  {
   "cell_type": "code",
   "execution_count": 15,
   "id": "fcf21893-c074-41b6-8e49-ed215f585a4c",
   "metadata": {},
   "outputs": [
    {
     "data": {
      "text/plain": [
       "array([60.])"
      ]
     },
     "execution_count": 15,
     "metadata": {},
     "output_type": "execute_result"
    }
   ],
   "source": [
    "import numpy as np\n",
    "np.array([60.0])"
   ]
  },
  {
   "cell_type": "code",
   "execution_count": 17,
   "id": "79d98057-2550-4acc-84e9-065ce834118f",
   "metadata": {},
   "outputs": [
    {
     "data": {
      "text/plain": [
       "array([ 60., 170.])"
      ]
     },
     "execution_count": 17,
     "metadata": {},
     "output_type": "execute_result"
    }
   ],
   "source": [
    "np.array([60,170.0])"
   ]
  },
  {
   "cell_type": "code",
   "execution_count": 27,
   "id": "004e562f-c923-4c99-9fd6-9b876f9b3f18",
   "metadata": {},
   "outputs": [
    {
     "data": {
      "text/plain": [
       "array([[1, 2],\n",
       "       [3, 4],\n",
       "       [5, 6]])"
      ]
     },
     "execution_count": 27,
     "metadata": {},
     "output_type": "execute_result"
    }
   ],
   "source": [
    "np.array([[1,2],\n",
    "         [3,4],\n",
    "         [5,6]])"
   ]
  },
  {
   "cell_type": "code",
   "execution_count": 33,
   "id": "8d570bb9-7112-45c9-8bca-45400400506c",
   "metadata": {},
   "outputs": [
    {
     "data": {
      "text/plain": [
       "array([[ 1,  2],\n",
       "       [ 3,  4],\n",
       "       [ 5,  6],\n",
       "       [ 7,  8],\n",
       "       [ 8,  9],\n",
       "       [10, 11],\n",
       "       [12, 13],\n",
       "       [14, 15],\n",
       "       [16, 17]])"
      ]
     },
     "execution_count": 33,
     "metadata": {},
     "output_type": "execute_result"
    }
   ],
   "source": [
    "np.array([[1, 2], [3, 4], [5, 6],\n",
    "                  [7, 8], [8, 9], [10, 11],\n",
    "                  [12, 13], [14, 15], [16, 17]])"
   ]
  },
  {
   "cell_type": "code",
   "execution_count": 43,
   "id": "f68e97cc-740f-43b0-9c04-ea9e14f7c4c5",
   "metadata": {},
   "outputs": [
    {
     "data": {
      "text/plain": [
       "array([0.75728155, 0.44660194, 1.5631068 ])"
      ]
     },
     "execution_count": 43,
     "metadata": {},
     "output_type": "execute_result"
    }
   ],
   "source": [
    "a = np.array([[3,4,7],\n",
    "        [1,-1,3],\n",
    "        [-3,2,6]])\n",
    "b = np.array([15, 5, 8])\n",
    "x = np.linalg.solve(a,b)\n",
    "x"
   ]
  },
  {
   "cell_type": "code",
   "execution_count": 55,
   "id": "1dd4f200-8378-4862-9199-a103781f6059",
   "metadata": {},
   "outputs": [
    {
     "data": {
      "text/plain": [
       "2"
      ]
     },
     "execution_count": 55,
     "metadata": {},
     "output_type": "execute_result"
    }
   ],
   "source": [
    "a.ndim"
   ]
  },
  {
   "cell_type": "code",
   "execution_count": 53,
   "id": "f2c950f8-3f7f-4a1e-b591-8deea7c13663",
   "metadata": {},
   "outputs": [
    {
     "data": {
      "text/plain": [
       "1"
      ]
     },
     "execution_count": 53,
     "metadata": {},
     "output_type": "execute_result"
    }
   ],
   "source": [
    "b.ndim"
   ]
  },
  {
   "cell_type": "code",
   "execution_count": 57,
   "id": "0255c38d-0379-490c-bdfb-ca53de49e544",
   "metadata": {},
   "outputs": [
    {
     "data": {
      "text/plain": [
       "array([15.,  5.,  8.])"
      ]
     },
     "execution_count": 57,
     "metadata": {},
     "output_type": "execute_result"
    }
   ],
   "source": [
    "a.dot(x)"
   ]
  },
  {
   "cell_type": "code",
   "execution_count": 61,
   "id": "95bd02fb-af44-4dd8-bf2f-53941965cda6",
   "metadata": {},
   "outputs": [
    {
     "data": {
      "text/plain": [
       "26.097087378640776"
      ]
     },
     "execution_count": 61,
     "metadata": {},
     "output_type": "execute_result"
    }
   ],
   "source": [
    "b.dot(x)"
   ]
  },
  {
   "cell_type": "code",
   "execution_count": null,
   "id": "330772d6-def0-4e40-9802-a01d94c6a7db",
   "metadata": {},
   "outputs": [],
   "source": []
  }
 ],
 "metadata": {
  "kernelspec": {
   "display_name": "Python 3 (ipykernel)",
   "language": "python",
   "name": "python3"
  },
  "language_info": {
   "codemirror_mode": {
    "name": "ipython",
    "version": 3
   },
   "file_extension": ".py",
   "mimetype": "text/x-python",
   "name": "python",
   "nbconvert_exporter": "python",
   "pygments_lexer": "ipython3",
   "version": "3.12.4"
  }
 },
 "nbformat": 4,
 "nbformat_minor": 5
}
