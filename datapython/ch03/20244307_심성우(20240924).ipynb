{
 "cells": [
  {
   "cell_type": "markdown",
   "id": "b08f2b22-7408-48cb-b63d-6e122a04a31f",
   "metadata": {},
   "source": [
    "# 20244307_심성우(20240924)\n",
    "-3장. 연산자로 걔산을 해 보자   \n",
    "-심성우   \n",
    "-20244307   "
   ]
  },
  {
   "cell_type": "markdown",
   "id": "4635b08f-953a-4f2c-a70e-a995ee9f8b79",
   "metadata": {},
   "source": [
    "## 오늘 배운점\n",
    "abs(절대값) 사용법을 배웠다\n"
   ]
  },
  {
   "cell_type": "markdown",
   "id": "dc9bde8c-51da-49d8-9380-a6ddce26e401",
   "metadata": {},
   "source": [
    "## 어려웠던점\n",
    "세 자리 수를 받아 일의자리 십의자리 백의 자리로 나누는 것이 어려웠다"
   ]
  },
  {
   "cell_type": "markdown",
   "id": "8ea8bc5f-db38-42c2-b936-e105da6e4ae1",
   "metadata": {},
   "source": [
    "## 연산자의 종류는 어떤 것들이 있는가?\n",
    "1.+,-,*,/,//,%,**   \n",
    "2.>,<,==,!=,>=,<= \n",
    "3.and, or, not\n"
   ]
  },
  {
   "cell_type": "markdown",
   "id": "3ba12f45-708e-4a96-9453-db03ed601997",
   "metadata": {},
   "source": [
    "### 연산자의 우선순위를 써라\n",
    "**,*,/,//,%,+,-"
   ]
  },
  {
   "cell_type": "markdown",
   "id": "429e57f7-e0b0-4b5a-be7a-585f0fbd95bd",
   "metadata": {},
   "source": [
    "### 주관식문제\n",
    "1.평가   \n",
    "2.대입   \n",
    "3.피연산자   \n",
    "4.동시 할당문   \n",
    "5./,//   \n",
    "6.**,3**3   \n",
    "7.비교연산자   \n",
    "8.True   \n",
    "9.논리연사자,부울   \n",
    "10.비트   \n",
    "11.비트 연산자,비트 단위 연산자   \n",
    "12.쉬프트   \n",
    "13.random   \n",
    "14.math   \n"
   ]
  },
  {
   "cell_type": "code",
   "execution_count": 23,
   "id": "0d2ff6bf-64d6-4423-bdfb-414d3eb4e858",
   "metadata": {},
   "outputs": [
    {
     "name": "stdout",
     "output_type": "stream",
     "text": [
      "2 의 제곱근 = 1.4142135623730951\n",
      "3 의 제곱근 = 1.7320508075688772\n",
      "4 의 제곱근 = 2.0\n",
      "5 의 제곱근 = 2.23606797749979\n",
      "6 의 제곱근 = 2.449489742783178\n",
      "7 의 제곱근 = 2.6457513110645907\n",
      "8 의 제곱근 = 2.8284271247461903\n",
      "9 의 제곱근 = 3.0\n",
      "10 의 제곱근 = 3.1622776601683795\n"
     ]
    }
   ],
   "source": [
    "\n",
    "for i in range(2,11):\n",
    "    print(i,'의 제곱근 =',i**0.5)"
   ]
  },
  {
   "cell_type": "code",
   "execution_count": 35,
   "id": "9ba64d13-3697-4860-ab15-b4c1ab58c14b",
   "metadata": {},
   "outputs": [
    {
     "name": "stdin",
     "output_type": "stream",
     "text": [
      "정수를 입력하세요: 12\n"
     ]
    },
    {
     "name": "stdout",
     "output_type": "stream",
     "text": [
      "입력된 정수는 0에서 100의 범위 안에 있는 짝수인가요? True\n"
     ]
    }
   ],
   "source": [
    "n=int(input('정수를 입력하세요:'))\n",
    "print('입력된 정수는 0에서 100의 범위 안에 있는 짝수인가요?', n>=0 and n<=100 and (n%2 ==0))\n",
    "\n",
    "\n",
    "\n",
    "    "
   ]
  },
  {
   "cell_type": "code",
   "execution_count": 57,
   "id": "e9c8681d-c4f1-4f64-b100-43e545a2a949",
   "metadata": {},
   "outputs": [
    {
     "name": "stdin",
     "output_type": "stream",
     "text": [
      "세자리 정수를 입력하세요 349\n"
     ]
    },
    {
     "name": "stdout",
     "output_type": "stream",
     "text": [
      "9\n",
      "4\n",
      "3\n",
      "943\n"
     ]
    }
   ],
   "source": [
    "n=int(input('세자리 정수를 입력하세요'))\n",
    "h= n//100\n",
    "t= (n - h * 100)//10\n",
    "h= n//100\n",
    "o = n%10\n",
    "print(o)\n",
    "print(t)\n",
    "print(h)\n",
    "\n",
    "print(o * 100 +t * 10 + h)"
   ]
  },
  {
   "cell_type": "code",
   "execution_count": 69,
   "id": "0711ca2a-6bfb-4d23-9c0f-5eb15dca5ef1",
   "metadata": {},
   "outputs": [
    {
     "name": "stdin",
     "output_type": "stream",
     "text": [
      "평균 시속을 입력하세요(km/h) 12.3\n",
      "이동시간을 입력하세요: 12.3\n"
     ]
    },
    {
     "name": "stdout",
     "output_type": "stream",
     "text": [
      "평균 시속: 0.0\n",
      "이동시간: 12.0 시간 18.0 분 0.0 초\n",
      "이동한 거리: 0.0\n"
     ]
    }
   ],
   "source": [
    "speed = float(input('평균 시속을 입력하세요(km/h)'))\n",
    "time = float(input('이동시간을 입력하세요:'))\n",
    "seconds= time*3600\n",
    "h= seconds //3600\n",
    "m=(seconds - h *3600) //60\n",
    "s = seconds % 60\n",
    "\n",
    "print('평균 시속:',s)\n",
    "print('이동시간:',h,'시간',m,'분',s,'초')\n",
    "print('이동한 거리:',t*s)"
   ]
  },
  {
   "cell_type": "code",
   "execution_count": 75,
   "id": "ace93bde-e9c2-4e6f-a4ad-f3dfa0558160",
   "metadata": {},
   "outputs": [
    {
     "name": "stdin",
     "output_type": "stream",
     "text": [
      "x1좌표를 입력하시오: 1\n",
      "y1좌표를 입력하시오: 5\n",
      "x2좌표를 입력하시오: 8\n",
      "y2좌표를 입력하시오: 3\n"
     ]
    },
    {
     "name": "stdout",
     "output_type": "stream",
     "text": [
      "직각삼각형의 넓이: 7.0\n"
     ]
    }
   ],
   "source": [
    "import math\n",
    "x1=int(input('x1좌표를 입력하시오:'))\n",
    "y1=int(input('y1좌표를 입력하시오:'))\n",
    "x2=int(input('x2좌표를 입력하시오:'))\n",
    "y2=int(input('y2좌표를 입력하시오:'))\n",
    "a=math.fabs(x2-x1)\n",
    "b=math.fabs(y2-y1)\n",
    "print('직각삼각형의 넓이:',a*b/2)"
   ]
  },
  {
   "cell_type": "code",
   "execution_count": null,
   "id": "110ae6b6-d617-447b-97d1-1f3e36020a7a",
   "metadata": {},
   "outputs": [],
   "source": []
  }
 ],
 "metadata": {
  "kernelspec": {
   "display_name": "Python 3 (ipykernel)",
   "language": "python",
   "name": "python3"
  },
  "language_info": {
   "codemirror_mode": {
    "name": "ipython",
    "version": 3
   },
   "file_extension": ".py",
   "mimetype": "text/x-python",
   "name": "python",
   "nbconvert_exporter": "python",
   "pygments_lexer": "ipython3",
   "version": "3.12.4"
  }
 },
 "nbformat": 4,
 "nbformat_minor": 5
}
