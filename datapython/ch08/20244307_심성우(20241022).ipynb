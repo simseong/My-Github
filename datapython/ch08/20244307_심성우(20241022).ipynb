{
 "cells": [
  {
   "cell_type": "markdown",
   "id": "2bdad891-ba3f-4b42-955d-03c71657c192",
   "metadata": {},
   "source": [
    "## 20244307_심성우(20241022)\n",
    "- 심성우\n",
    "- 20241022"
   ]
  },
  {
   "cell_type": "markdown",
   "id": "741817d7-57e5-4628-affa-ffeed19a051e",
   "metadata": {},
   "source": [
    "## 요점정리\n"
   ]
  },
  {
   "cell_type": "markdown",
   "id": "8452e5b9-b913-466d-b7ae-c0343c60acfc",
   "metadata": {},
   "source": [
    "## 오늘 배운 것\n",
    "-딕셔너리와 집합의 사용법과 메소드를 배웠다"
   ]
  },
  {
   "cell_type": "markdown",
   "id": "1bd0edd5-f290-4f1a-9d46-69a36df7a249",
   "metadata": {},
   "source": [
    "## 어려웠던점\n",
    "-리스트,튜플,딕셔너리,집합의 차이점을 구분하는게 어려웠다"
   ]
  },
  {
   "cell_type": "markdown",
   "id": "114961e1-5064-4e63-a9d5-2d6c0415be1b",
   "metadata": {},
   "source": [
    "### 1) 딕셔너리를 만드는 방법을 설명하라\n",
    "- my_dict =  {}"
   ]
  },
  {
   "cell_type": "markdown",
   "id": "90bf68cf-4558-4ff2-8a8c-8ecb99af74e6",
   "metadata": {},
   "source": [
    "### 2) 딕셔너리에 새로운 요소를 추가하는 방법을 설명하라\n",
    "- my_dict[\"age\"] = 20\n",
    "- my_dicy['hight'] = 175"
   ]
  },
  {
   "cell_type": "markdown",
   "id": "68b79713-c74a-4339-84eb-33aa334801f5",
   "metadata": {},
   "source": [
    "### 3) 딕셔너리에서 사용하는 메소드를 찾아서 정리해보자\n",
    "- keys() : 딕셔너리 내의 모든 키를 반환다\n",
    "- values() : 딕셔너리 내의 모든 값를 반환다\n",
    "- items() : 딕셔너리 내의 모는 항목을 [키]:[값] 쌍으로 반환한다\n",
    "- get(key) : 키에 대한 값을 반환한다. 키가 없으면 None을 반환한다\n",
    "- popitem() : 키에 대한 값을 반환하고, 그 항목을 삭제한다\n",
    "- clear() : 딕셔너리 내의 모든 항목을 삭제한다"
   ]
  },
  {
   "cell_type": "markdown",
   "id": "dc0eca2d-522a-4c3d-93d4-51121b3ffa61",
   "metadata": {},
   "source": [
    "\n",
    "### 4) 집합의 중요한 성질을 설명하라\n",
    "- 순서없는 데이터 모음\n",
    "- 요소가 중복되면 자동으로 중복된 요소를 제거함\n",
    "- 집합 중복을 허용하지 않음\n",
    "- 변경 가능"
   ]
  },
  {
   "cell_type": "markdown",
   "id": "944c16fb-b74d-4522-9499-3a23818a97e0",
   "metadata": {},
   "source": [
    "### 5) 리스트, 튜플 ,딕셔너리 ,집합을 비교하라\n",
    "- 리스트 : 중복 허용, 순서 유지, 변경 가능\n",
    "- 집합 : 중복 허용 X , 순서 유지 X (순서 없음), 변경 가능\n",
    "- 튜플 :  중복 허용, 순서 유지, 변경 불가\n",
    "- 딕셔너리 : 중복 혀용 (키는 불가, 값은 중복 가능), 순서 유지, 변경 가능 "
   ]
  },
  {
   "cell_type": "code",
   "execution_count": 148,
   "id": "19215f82-b727-46eb-a237-92fbb09cf7f7",
   "metadata": {},
   "outputs": [
    {
     "data": {
      "text/plain": [
       "dict_items([('age', 20), ('hight', 175), ('weight', 70), ('bmi', 22.857142857142858)])"
      ]
     },
     "execution_count": 148,
     "metadata": {},
     "output_type": "execute_result"
    }
   ],
   "source": [
    "my_dict = {}\n",
    "my_dict['age'] = 20\n",
    "my_dict['hight'] = 175\n",
    "my_dict['weight'] = 70\n",
    "my_dict['bmi'] = my_dict['weight'] / (my_dict['hight']/100) **2\n",
    "my_dict.items()"
   ]
  },
  {
   "cell_type": "markdown",
   "id": "aa4e5063-e4cc-4555-9746-2893e18a7308",
   "metadata": {},
   "source": [
    "## 8단원 끝에 있는 핵심정리를 적어라\n",
    "- 딕셔너리는 키와 값으로 이루어 진다.\n",
    "- 딕셔너리는 키를 제시하면 값을 반환한다.\n",
    "- 딕셔너리는 인덱스를 이용하여 접근하지 않고 키를 이용하여 항복에 접근한다.\n",
    "- 키를 이용하기 떄문에 항목들 사이의 순서는 중요하지 않다.\n",
    "- 항목의 순서가 중요하지 않는 데이터로 집합이 있다. 집합은 항목값의 중복을 허용하지 않는다.\n",
    "- 파이썬의 집합은 순서가 없는 자료형으로 풍부한 연산자와 메소드가 제공되고 있다.\n",
    "- 딕셔너리와 집합은 항목의 순서에 의미가 없으므로 슬라이싱을 적용할 수 없다."
   ]
  },
  {
   "cell_type": "markdown",
   "id": "c9d56270-72d5-48c2-ae03-c83a9aaa9048",
   "metadata": {},
   "source": [
    "## 주관식 문제\n",
    "1. 딕셔너리\n",
    "2. {}\n",
    "3. keys()\n",
    "4. values()\n",
    "5. items()\n",
    "6. clear()\n",
    "7. 람다 함수\n",
    "8. 집합\n",
    "9. add()\n",
    "10. | , union()\n",
    "11. & , intersection()\n",
    "12. - , difference()\n",
    "13. ^ , symmetric_difference() "
   ]
  },
  {
   "cell_type": "markdown",
   "id": "5aec163c-c906-433d-82db-7825bbf80a29",
   "metadata": {},
   "source": [
    "## 심화문제"
   ]
  },
  {
   "cell_type": "code",
   "execution_count": 6,
   "id": "d7c1752e-882f-45e8-860e-81c7613ef0aa",
   "metadata": {},
   "outputs": [
    {
     "name": "stdout",
     "output_type": "stream",
     "text": [
      "사과, 배, 귤, 포도 가격을 공백을 구분하여 입력 1 2 3 4 5\n"
     ]
    },
    {
     "name": "stdout",
     "output_type": "stream",
     "text": [
      "\n",
      "------------- 오늘의 과일 가격 -------------\n",
      "사과      : 1원\n",
      "배       : 2원\n",
      "수박      : 3원\n",
      "귤       : 4원\n",
      "포도      : 5원\n"
     ]
    },
    {
     "name": "stdout",
     "output_type": "stream",
     "text": [
      "구매를 원하는 과일의 이름을 입력하시오 :  사과\n"
     ]
    },
    {
     "name": "stdout",
     "output_type": "stream",
     "text": [
      "오늘 사과 가격은 1원 입니다\n"
     ]
    }
   ],
   "source": [
    "i = 0 \n",
    "fuits_dic ={'사과':0, '배':0, '수박':0, '귤': 0, '포도':0}\n",
    "prices = input('사과, 배, 귤, 포도 가격을 공백을 구분하여 입력').split()\n",
    "for k in fuits_dic:\n",
    "    fuits_dic[k] = prices[i]\n",
    "    i += 1\n",
    "print('')\n",
    "print('-'*13, '오늘의 과일 가격','-'*13)\n",
    "for key, value in fuits_dic.items():\n",
    "    print(f\"{key:<8}: {value:}원\")\n",
    "a = input('구매를 원하는 과일의 이름을 입력하시오 : ')\n",
    "print(f'오늘 {a} 가격은 {fuits_dic[a]}원 입니다')"
   ]
  },
  {
   "cell_type": "code",
   "execution_count": 48,
   "id": "df2f339e-1ed8-47f2-af53-57e5cfc2eea9",
   "metadata": {},
   "outputs": [
    {
     "data": {
      "text/plain": [
       "{'241101': ['박동윤', '010-1234-4500'],\n",
       " '241102': ['김은지', '010-2230-6540'],\n",
       " '241103': ['이지은', '010-3232-7788']}"
      ]
     },
     "execution_count": 48,
     "metadata": {},
     "output_type": "execute_result"
    }
   ],
   "source": [
    "student_tup = (('241101', '박동윤', '010-1234-4500'), ('241102', '김은지', '010-2230-6540'), ('241103', '이지은', '010-3232-7788'))\n",
    "student_dict = {}\n",
    "\n",
    "for student in student_tup:\n",
    "    student_dict[student[0]] = list(student[1:])  \n",
    "\n",
    "student_dict\n",
    "\n"
   ]
  },
  {
   "cell_type": "code",
   "execution_count": 40,
   "id": "348db4e6-8bcd-4f8b-ab9c-ffbc1e9867f0",
   "metadata": {},
   "outputs": [
    {
     "name": "stdout",
     "output_type": "stream",
     "text": [
      "학번을 입력하시오 :  241101\n"
     ]
    },
    {
     "name": "stdout",
     "output_type": "stream",
     "text": [
      "이름 : 박동윤\n",
      "연락처 : 010-1234-4500\n"
     ]
    }
   ],
   "source": [
    "id = input('학번을 입력하시오 : ')\n",
    "print('이름 :', student_dict[id][0])\n",
    "print('연락처 :', student_dict[id][1]) "
   ]
  },
  {
   "cell_type": "code",
   "execution_count": 50,
   "id": "7b2300a0-c904-4bbf-acf8-2da1eb587792",
   "metadata": {},
   "outputs": [
    {
     "data": {
      "text/plain": [
       "{'241101': ['박동윤', '010-1234-4500', 4.3],\n",
       " '241102': ['김은지', '010-2230-6540', 3.9],\n",
       " '241103': ['이지은', '010-3232-7788', 4.25]}"
      ]
     },
     "execution_count": 50,
     "metadata": {},
     "output_type": "execute_result"
    }
   ],
   "source": [
    "names = list(student_dict.keys()) \n",
    "grades = [4.3, 3.9, 4.25]  \n",
    "\n",
    "for i in range(len(names)):  \n",
    "    student_dict[names[i]].append(grades[i])  \n",
    "\n",
    "student_dict"
   ]
  },
  {
   "cell_type": "code",
   "execution_count": 54,
   "id": "2fe5cdbd-85ee-4b7f-be5f-5b754060a26e",
   "metadata": {},
   "outputs": [
    {
     "data": {
      "text/plain": [
       "4.1499999999999995"
      ]
     },
     "execution_count": 54,
     "metadata": {},
     "output_type": "execute_result"
    }
   ],
   "source": [
    "s = 0\n",
    "for v in student_dict.values():\n",
    "    s += v[-1]\n",
    "s/ len(student_dict)"
   ]
  },
  {
   "cell_type": "code",
   "execution_count": 80,
   "id": "2d9deeec-ac90-4c15-af82-aa4e8748c418",
   "metadata": {},
   "outputs": [
    {
     "name": "stdout",
     "output_type": "stream",
     "text": [
      "전체 원소 : [10, 20, 30, 40, 50]\n",
      "20의 출현빈도 3\n",
      "30의 출현빈도 4\n"
     ]
    }
   ],
   "source": [
    "lst = [10, 30, 40, 50, 30, 30, 20, 20, 20, 30]\n",
    "print('전체 원소 :',sorted(list(set(lst))))\n",
    "\n",
    "freq_dict = {}\n",
    "for n in sorted(set(lst)):\n",
    "    freq_dict[n] = lst.count(n)\n",
    "\n",
    "for n,v in freq_dict.items():\n",
    "    if freq_dict[n] >=2:\n",
    "        print(f'{n}의 출현빈도 {v}')\n",
    "        "
   ]
  },
  {
   "cell_type": "code",
   "execution_count": 78,
   "id": "a5589a15-3b77-4c16-b4ad-391f2cc6ccdb",
   "metadata": {},
   "outputs": [
    {
     "name": "stdout",
     "output_type": "stream",
     "text": [
      "중복 없는 원소들 : [10, 40, 50]\n"
     ]
    }
   ],
   "source": [
    "not_duplicated = []\n",
    "for k,v in freq_dict.items():\n",
    "    if v == 1:\n",
    "        not_duplicated.append(k)\n",
    "\n",
    "print('중복 없는 원소들 :', not_duplicated)"
   ]
  },
  {
   "cell_type": "code",
   "execution_count": null,
   "id": "cf182da1-696a-428f-8a11-145a20cc14c8",
   "metadata": {},
   "outputs": [],
   "source": [
    "mylist = [(1,2),(4,5),(4,2),(3,1),(9,4),]\n",
    "\n",
    "jungsu =int( input('두 정수를 입력하세요:'))\n",
    "요점정리 주관식 문제 보기 \n",
    "간단한 코드문제 냄 빈칸 채우기 이런거 \n",
    "리스트 딕셔너리 반복문 \n",
    "데이터 타입 중요, 함수 왜쓰는가?\n",
    "담주(시험보는주) 목 쉼"
   ]
  }
 ],
 "metadata": {
  "kernelspec": {
   "display_name": "Python 3 (ipykernel)",
   "language": "python",
   "name": "python3"
  },
  "language_info": {
   "codemirror_mode": {
    "name": "ipython",
    "version": 3
   },
   "file_extension": ".py",
   "mimetype": "text/x-python",
   "name": "python",
   "nbconvert_exporter": "python",
   "pygments_lexer": "ipython3",
   "version": "3.12.4"
  }
 },
 "nbformat": 4,
 "nbformat_minor": 5
}
