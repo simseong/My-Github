{
 "cells": [
  {
   "cell_type": "markdown",
   "id": "9d3e974f-fd5e-41eb-805a-438cd6ba6b3d",
   "metadata": {},
   "source": [
    "## 20244307 심성우\n",
    "- 7장_데이터를 리스트와 튜플로 묶어보자\n",
    "- 심성우\n",
    "- 20244307"
   ]
  },
  {
   "cell_type": "markdown",
   "id": "d94dffc6-ecd8-42f6-bb27-29fda5f79469",
   "metadata": {},
   "source": [
    "### 오늘 배운 것 \n",
    "- 리스트가 무언인지와 사용하는 방법을 배웠다\n",
    "- 리스트에 적용하는 메소드들의 사용법을 배웠다"
   ]
  },
  {
   "cell_type": "markdown",
   "id": "bdb29f04-fd21-44c9-8ba6-df786eabdbaa",
   "metadata": {},
   "source": [
    "### 어려웠던점\n",
    "- 메소드들이 너무 많아 사용법이 햇갈리는게 어려웠다."
   ]
  },
  {
   "cell_type": "markdown",
   "id": "9ff14cb8-46b5-495e-8f4a-e99b201e68a1",
   "metadata": {},
   "source": [
    "## 요점 정리\n",
    "### 1)  리스트란 무엇인가?\n",
    "- 여러 개의 데이터를 하나로 묶어서 저장하는것.\n",
    "- 순서가 있는 자료형\n",
    "### 2) 리스트에 생성하는 방법에는 무엇이 있는가? \n",
    "- [1,2,3,4]\n",
    "### 3) 리스트에 적용하는 메소드들에 대해 간단히 설명하라\n",
    "- append : 리스트에 항목을 새롭게 추가함\n",
    "- insert : 원하는 위치에 항목을 추가함\n",
    "- extend : 리스트를 기존 리스트에 삽입함\n",
    "- pop : 원소를 삭제하고 반환함\n",
    "- sort : 값을 오름차순 순서대로 정렬함\n",
    "### 4) 인덱싱과 슬라이싱은 무엇인가?\n",
    " - indexing : 원하는 요소를 가져오는것 \n",
    " - slicing : 여러 개의 값을 가져오는것  \n",
    "\n",
    "### 5) 리스트 함축이란?\n",
    "- 리스트를 수학식과 \r\n",
    "유사하게 정의하는\n",
    "\n",
    "### 6) 튜플과 리스트의 차이점은 무엇인가?\n",
    "- 리스트는 가변 속성이고 튜플은 불변속성이다\n",
    "- 튜플은 리스트에 비해 접근 속도가 빠르다다."
   ]
  },
  {
   "cell_type": "code",
   "execution_count": 20,
   "id": "9264a6f1-7c21-48d8-aaa7-ff80d4962b8d",
   "metadata": {},
   "outputs": [
    {
     "data": {
      "text/plain": [
       "[20, 'sim', 70, 175]"
      ]
     },
     "execution_count": 20,
     "metadata": {},
     "output_type": "execute_result"
    }
   ],
   "source": [
    "my_info = [20,'sim',70,175]\n",
    "my_info"
   ]
  },
  {
   "cell_type": "code",
   "execution_count": 24,
   "id": "26dd0b8b-5137-4bf2-8f75-83e20de98d4b",
   "metadata": {},
   "outputs": [
    {
     "data": {
      "text/plain": [
       "[]"
      ]
     },
     "execution_count": 24,
     "metadata": {},
     "output_type": "execute_result"
    }
   ],
   "source": [
    "my_info = list()\n",
    "my_info\n"
   ]
  },
  {
   "cell_type": "code",
   "execution_count": 26,
   "id": "7b352b8a-c2e7-4807-9522-929806c83a06",
   "metadata": {},
   "outputs": [
    {
     "data": {
      "text/plain": [
       "[]"
      ]
     },
     "execution_count": 26,
     "metadata": {},
     "output_type": "execute_result"
    }
   ],
   "source": [
    "my_info = []\n",
    "my_info"
   ]
  },
  {
   "cell_type": "code",
   "execution_count": 28,
   "id": "10253cb2-7fb1-4dfb-b85b-bd99fb49a9de",
   "metadata": {},
   "outputs": [
    {
     "data": {
      "text/plain": [
       "[20]"
      ]
     },
     "execution_count": 28,
     "metadata": {},
     "output_type": "execute_result"
    }
   ],
   "source": [
    "my_info.append(20)\n",
    "my_info"
   ]
  },
  {
   "cell_type": "code",
   "execution_count": 36,
   "id": "3c032b4a-b13d-489c-943a-e8435ad9d8b0",
   "metadata": {},
   "outputs": [
    {
     "data": {
      "text/plain": [
       "[20, 'sim', 'sim', 'sim']"
      ]
     },
     "execution_count": 36,
     "metadata": {},
     "output_type": "execute_result"
    }
   ],
   "source": [
    "my_info.append('sim')\n",
    "my_info"
   ]
  },
  {
   "cell_type": "code",
   "execution_count": 40,
   "id": "6b0a164c-7f4d-4747-ade8-01615932f994",
   "metadata": {},
   "outputs": [
    {
     "data": {
      "text/plain": [
       "[20, 175, 'sim', 'sim', 'sim']"
      ]
     },
     "execution_count": 40,
     "metadata": {},
     "output_type": "execute_result"
    }
   ],
   "source": [
    "my_info.insert(1,175)\n",
    "my_info"
   ]
  },
  {
   "cell_type": "code",
   "execution_count": 51,
   "id": "ce6dabf5-d67d-4cda-bac7-2d8194f35450",
   "metadata": {},
   "outputs": [
    {
     "data": {
      "text/plain": [
       "[]"
      ]
     },
     "execution_count": 51,
     "metadata": {},
     "output_type": "execute_result"
    }
   ],
   "source": [
    "my_info.pop()\n",
    "my_info"
   ]
  },
  {
   "cell_type": "code",
   "execution_count": 45,
   "id": "6aecd2a1-3995-4e20-b510-3e1b4fe725e4",
   "metadata": {},
   "outputs": [
    {
     "data": {
      "text/plain": [
       "[20, 'sim', 'sim']"
      ]
     },
     "execution_count": 45,
     "metadata": {},
     "output_type": "execute_result"
    }
   ],
   "source": [
    "my_info.remove(175)\n",
    "my_info"
   ]
  },
  {
   "cell_type": "markdown",
   "id": "745daefa-ea99-48cd-90c7-6b26fa3ac79d",
   "metadata": {},
   "source": [
    "## 주관식 문제\n",
    "1. 리스트 \n",
    "2. 항목 , 요소\n",
    "3. append\n",
    "4. in , not in\n",
    "5. type()\n",
    "6. 인덱스\n",
    "7. len()\n",
    "8. 슬라이싱\n",
    "9. insert()\n",
    "10. remove()\n",
    "11. pop()\n",
    "12. del\n",
    "13. index()\n",
    "14. sort() , reversed = True\n",
    "15. 튜플\n",
    "16. 메소드"
   ]
  },
  {
   "cell_type": "code",
   "execution_count": 55,
   "id": "9cffa9b2-809d-4ebc-89cd-5e148f0ff2c2",
   "metadata": {},
   "outputs": [
    {
     "data": {
      "text/plain": [
       "['scnu', 'dept od A.I', 'scnu', 'dept od A.I']"
      ]
     },
     "execution_count": 55,
     "metadata": {},
     "output_type": "execute_result"
    }
   ],
   "source": [
    "my_info.extend(['scnu','dept od A.I'])\n",
    "my_info"
   ]
  },
  {
   "cell_type": "code",
   "execution_count": 57,
   "id": "a4e3ca55-e4a0-416c-8b09-2214d2f220ab",
   "metadata": {},
   "outputs": [
    {
     "data": {
      "text/plain": [
       "[1, 3, 5, 7, 8]"
      ]
     },
     "execution_count": 57,
     "metadata": {},
     "output_type": "execute_result"
    }
   ],
   "source": [
    "num = [1,5,7,8,3]\n",
    "num.sort()\n",
    "num"
   ]
  },
  {
   "cell_type": "code",
   "execution_count": 67,
   "id": "084feccb-7751-4bfb-af1c-e07b9880bf17",
   "metadata": {},
   "outputs": [
    {
     "data": {
      "text/plain": [
       "[3, 9, 15, 21, 27, 33, 39, 45, 51, 57, 63, 69, 75, 81, 87, 93, 99]"
      ]
     },
     "execution_count": 67,
     "metadata": {},
     "output_type": "execute_result"
    }
   ],
   "source": [
    "list=[]\n",
    "for a in range(1,101):\n",
    "    if a%3 == 0 and a%2 ==1:\n",
    "        list.append(a)\n",
    "    \n",
    "list"
   ]
  },
  {
   "cell_type": "code",
   "execution_count": 69,
   "id": "87db34a8-bc84-4ac4-ac06-efcac5fff421",
   "metadata": {},
   "outputs": [
    {
     "data": {
      "text/plain": [
       "[3, 9, 15, 21, 27, 33, 39, 45, 51, 57, 63, 69, 75, 81, 87, 93, 99]"
      ]
     },
     "execution_count": 69,
     "metadata": {},
     "output_type": "execute_result"
    }
   ],
   "source": [
    "num = [n for n in range(0,100,3) if n % 2 ==1]\n",
    "num"
   ]
  },
  {
   "cell_type": "code",
   "execution_count": 74,
   "id": "cd98c3c8-1f6c-4463-bb95-1a7f23a17ce5",
   "metadata": {},
   "outputs": [
    {
     "data": {
      "text/plain": [
       "[27, 33, 39, 45, 51, 57, 63]"
      ]
     },
     "execution_count": 74,
     "metadata": {},
     "output_type": "execute_result"
    }
   ],
   "source": [
    "num[4:11]"
   ]
  },
  {
   "cell_type": "markdown",
   "id": "321ac912-20cc-49fc-9dcd-1065b12ac4ee",
   "metadata": {},
   "source": [
    "## 심화문제"
   ]
  },
  {
   "cell_type": "code",
   "execution_count": 40,
   "id": "658904fc-0bf1-4dbd-9be9-9d4b6c155d3d",
   "metadata": {},
   "outputs": [],
   "source": [
    "num_list = [500,200,400,100,800,700,300,600]\n",
    "high = 6\n",
    "low = 3"
   ]
  },
  {
   "cell_type": "code",
   "execution_count": 44,
   "id": "d0fc18e1-c7da-417c-994b-d2e91b6af40b",
   "metadata": {},
   "outputs": [
    {
     "data": {
      "text/plain": [
       "400"
      ]
     },
     "execution_count": 44,
     "metadata": {},
     "output_type": "execute_result"
    }
   ],
   "source": [
    "num_list[2]"
   ]
  },
  {
   "cell_type": "code",
   "execution_count": 46,
   "id": "0370c37f-200c-48bb-aabc-d9fc30896ef1",
   "metadata": {},
   "outputs": [
    {
     "data": {
      "text/plain": [
       "800"
      ]
     },
     "execution_count": 46,
     "metadata": {},
     "output_type": "execute_result"
    }
   ],
   "source": [
    "num_list[high - 2]"
   ]
  },
  {
   "cell_type": "code",
   "execution_count": 48,
   "id": "822c74ee-54e2-45b6-996f-823ca0f2491a",
   "metadata": {},
   "outputs": [
    {
     "data": {
      "text/plain": [
       "100"
      ]
     },
     "execution_count": 48,
     "metadata": {},
     "output_type": "execute_result"
    }
   ],
   "source": [
    "num_list[high - low]"
   ]
  },
  {
   "cell_type": "code",
   "execution_count": 78,
   "id": "18491118-d93d-4343-9775-8b9f0dd02293",
   "metadata": {},
   "outputs": [
    {
     "data": {
      "text/plain": [
       "700"
      ]
     },
     "execution_count": 78,
     "metadata": {},
     "output_type": "execute_result"
    }
   ],
   "source": [
    "num_list[low - high]"
   ]
  },
  {
   "cell_type": "code",
   "execution_count": 54,
   "id": "2f350a2a-0c31-453f-bc3d-e0517320682d",
   "metadata": {},
   "outputs": [
    {
     "data": {
      "text/plain": [
       "600"
      ]
     },
     "execution_count": 54,
     "metadata": {},
     "output_type": "execute_result"
    }
   ],
   "source": [
    "num_list[-1]"
   ]
  },
  {
   "cell_type": "code",
   "execution_count": 56,
   "id": "79faad01-4602-4358-9ca0-2e03fb000dc9",
   "metadata": {},
   "outputs": [
    {
     "data": {
      "text/plain": [
       "700"
      ]
     },
     "execution_count": 56,
     "metadata": {},
     "output_type": "execute_result"
    }
   ],
   "source": [
    "num_list[-low]"
   ]
  },
  {
   "cell_type": "code",
   "execution_count": 58,
   "id": "a7b67da3-1a23-47f8-b3ce-e044adb3dbd8",
   "metadata": {},
   "outputs": [
    {
     "data": {
      "text/plain": [
       "300"
      ]
     },
     "execution_count": 58,
     "metadata": {},
     "output_type": "execute_result"
    }
   ],
   "source": [
    "num_list[2*3]"
   ]
  },
  {
   "cell_type": "code",
   "execution_count": 60,
   "id": "e9bbcdf8-ea3e-4b82-bc99-9b4d8320beba",
   "metadata": {},
   "outputs": [
    {
     "data": {
      "text/plain": [
       "1200"
      ]
     },
     "execution_count": 60,
     "metadata": {},
     "output_type": "execute_result"
    }
   ],
   "source": [
    "num_list[2]*3"
   ]
  },
  {
   "cell_type": "code",
   "execution_count": 62,
   "id": "9b4bf7f6-e64b-4023-b0ac-cad0040ace28",
   "metadata": {},
   "outputs": [
    {
     "data": {
      "text/plain": [
       "200"
      ]
     },
     "execution_count": 62,
     "metadata": {},
     "output_type": "execute_result"
    }
   ],
   "source": [
    "num_list[5%4]"
   ]
  },
  {
   "cell_type": "code",
   "execution_count": 64,
   "id": "9baf1182-9cc2-45ad-a037-55acf1a60aa1",
   "metadata": {},
   "outputs": [
    {
     "data": {
      "text/plain": [
       "8"
      ]
     },
     "execution_count": 64,
     "metadata": {},
     "output_type": "execute_result"
    }
   ],
   "source": [
    "len(num_list)"
   ]
  },
  {
   "cell_type": "code",
   "execution_count": 66,
   "id": "e2615288-7478-4f14-85d3-edb816efcd92",
   "metadata": {},
   "outputs": [
    {
     "data": {
      "text/plain": [
       "100"
      ]
     },
     "execution_count": 66,
     "metadata": {},
     "output_type": "execute_result"
    }
   ],
   "source": [
    "min(num_list)"
   ]
  },
  {
   "cell_type": "code",
   "execution_count": 68,
   "id": "3ecd6dd4-db25-4fcb-9cba-4ecd16d0cec9",
   "metadata": {},
   "outputs": [
    {
     "data": {
      "text/plain": [
       "800"
      ]
     },
     "execution_count": 68,
     "metadata": {},
     "output_type": "execute_result"
    }
   ],
   "source": [
    "max(num_list)"
   ]
  },
  {
   "cell_type": "code",
   "execution_count": 70,
   "id": "16d47627-894b-47d7-bd96-d8978388be92",
   "metadata": {},
   "outputs": [
    {
     "data": {
      "text/plain": [
       "[500, 200, 400]"
      ]
     },
     "execution_count": 70,
     "metadata": {},
     "output_type": "execute_result"
    }
   ],
   "source": [
    "num_list[:3]"
   ]
  },
  {
   "cell_type": "code",
   "execution_count": 72,
   "id": "076f430c-ca52-42c2-8f60-eed35e887982",
   "metadata": {},
   "outputs": [
    {
     "data": {
      "text/plain": [
       "[200, 400, 100, 800]"
      ]
     },
     "execution_count": 72,
     "metadata": {},
     "output_type": "execute_result"
    }
   ],
   "source": [
    "num_list[1:5]"
   ]
  },
  {
   "cell_type": "code",
   "execution_count": 74,
   "id": "23832b8f-d113-4e4e-bc04-74ba353f5889",
   "metadata": {},
   "outputs": [
    {
     "data": {
      "text/plain": [
       "[600, 300, 700, 800]"
      ]
     },
     "execution_count": 74,
     "metadata": {},
     "output_type": "execute_result"
    }
   ],
   "source": [
    "num_list[-1:-5:-1]"
   ]
  },
  {
   "cell_type": "code",
   "execution_count": 76,
   "id": "4c2a08b8-c828-4ca1-9458-60fc624b05a0",
   "metadata": {},
   "outputs": [
    {
     "data": {
      "text/plain": [
       "[100, 800, 700, 300]"
      ]
     },
     "execution_count": 76,
     "metadata": {},
     "output_type": "execute_result"
    }
   ],
   "source": [
    "num_list[-5:-1:1]"
   ]
  },
  {
   "cell_type": "code",
   "execution_count": 107,
   "id": "d461f14b-396f-4cfb-875f-b2c1444d00cd",
   "metadata": {},
   "outputs": [
    {
     "name": "stdout",
     "output_type": "stream",
     "text": [
      "3 * 2 = 6\n",
      "3 * 3 = 9\n",
      "3 * 4 = 12\n",
      "3 * 5 = 15\n",
      "3 * 6 = 18\n",
      "5 * 2 = 10\n",
      "5 * 3 = 15\n",
      "5 * 4 = 20\n",
      "5 * 5 = 25\n",
      "5 * 6 = 30\n",
      "7 * 2 = 14\n",
      "7 * 3 = 21\n",
      "7 * 4 = 28\n",
      "7 * 5 = 35\n",
      "7 * 6 = 42\n"
     ]
    }
   ],
   "source": [
    "list1 = [3,5,7]\n",
    "list2 = [2,3,4,5,6]\n",
    "\n",
    "for i in list1:\n",
    "    for j in list2:\n",
    "        print(i,'*',j,'=',i*j)\n",
    "      \n",
    "    "
   ]
  },
  {
   "cell_type": "code",
   "execution_count": 125,
   "id": "a0a6d901-ab28-446b-bc2e-29c498c01c7f",
   "metadata": {},
   "outputs": [
    {
     "name": "stdout",
     "output_type": "stream",
     "text": [
      "I like pancakes\n",
      "I like kiwi juice\n",
      "I like espresso\n",
      "I love pancakes\n",
      "I love kiwi juice\n",
      "I love espresso\n"
     ]
    }
   ],
   "source": [
    "L1 = ['I like', 'I love']\n",
    "L2 = ['pancakes','kiwi juice', 'espresso']\n",
    "for a in L1:\n",
    "    for b in L2:\n",
    "        print(a,b)"
   ]
  },
  {
   "cell_type": "code",
   "execution_count": 119,
   "id": "44569518-7b43-49cf-9f7b-23cfdec7f0ac",
   "metadata": {},
   "outputs": [
    {
     "ename": "AttributeError",
     "evalue": "'tuple' object has no attribute 'append'",
     "output_type": "error",
     "traceback": [
      "\u001b[1;31m---------------------------------------------------------------------------\u001b[0m",
      "\u001b[1;31mAttributeError\u001b[0m                            Traceback (most recent call last)",
      "Cell \u001b[1;32mIn[119], line 2\u001b[0m\n\u001b[0;32m      1\u001b[0m t \u001b[38;5;241m=\u001b[39m (\u001b[38;5;241m10\u001b[39m, \u001b[38;5;241m20\u001b[39m, \u001b[38;5;241m30\u001b[39m, \u001b[38;5;241m40\u001b[39m)\n\u001b[1;32m----> 2\u001b[0m t\u001b[38;5;241m.\u001b[39mappend(\u001b[38;5;241m50\u001b[39m)\n",
      "\u001b[1;31mAttributeError\u001b[0m: 'tuple' object has no attribute 'append'"
     ]
    }
   ],
   "source": [
    "t = (10, 20, 30, 40)\n",
    "t.append(50)\n",
    "#튜플은 추가할 수없음 (수정 불가)"
   ]
  },
  {
   "cell_type": "code",
   "execution_count": 121,
   "id": "54ed2d40-7a6a-4a3f-8d7e-a05491bcaba7",
   "metadata": {},
   "outputs": [
    {
     "ename": "AttributeError",
     "evalue": "'tuple' object has no attribute 'remove'",
     "output_type": "error",
     "traceback": [
      "\u001b[1;31m---------------------------------------------------------------------------\u001b[0m",
      "\u001b[1;31mAttributeError\u001b[0m                            Traceback (most recent call last)",
      "Cell \u001b[1;32mIn[121], line 2\u001b[0m\n\u001b[0;32m      1\u001b[0m t \u001b[38;5;241m=\u001b[39m (\u001b[38;5;241m10\u001b[39m, \u001b[38;5;241m20\u001b[39m, \u001b[38;5;241m30\u001b[39m, \u001b[38;5;241m40\u001b[39m)\n\u001b[1;32m----> 2\u001b[0m t\u001b[38;5;241m.\u001b[39mremove(\u001b[38;5;241m40\u001b[39m)\n",
      "\u001b[1;31mAttributeError\u001b[0m: 'tuple' object has no attribute 'remove'"
     ]
    }
   ],
   "source": [
    "t = (10, 20, 30, 40)\n",
    "t.remove(40)\n",
    "#튜플은 제거할 수 없음 (수정 불가)"
   ]
  },
  {
   "cell_type": "code",
   "execution_count": 123,
   "id": "2dd7d106-d6e5-44be-8966-0ef83e139ca1",
   "metadata": {},
   "outputs": [
    {
     "ename": "TypeError",
     "evalue": "'tuple' object does not support item assignment",
     "output_type": "error",
     "traceback": [
      "\u001b[1;31m---------------------------------------------------------------------------\u001b[0m",
      "\u001b[1;31mTypeError\u001b[0m                                 Traceback (most recent call last)",
      "Cell \u001b[1;32mIn[123], line 2\u001b[0m\n\u001b[0;32m      1\u001b[0m t \u001b[38;5;241m=\u001b[39m (\u001b[38;5;241m10\u001b[39m, \u001b[38;5;241m20\u001b[39m, \u001b[38;5;241m30\u001b[39m, \u001b[38;5;241m40\u001b[39m)\n\u001b[1;32m----> 2\u001b[0m t[\u001b[38;5;241m0\u001b[39m] \u001b[38;5;241m=\u001b[39m \u001b[38;5;241m0\u001b[39m\n",
      "\u001b[1;31mTypeError\u001b[0m: 'tuple' object does not support item assignment"
     ]
    }
   ],
   "source": [
    "t = (10, 20, 30, 40)\n",
    "t[0] = 0\n",
    "#튜플은 바꿀 수 없음 (수정 불가)"
   ]
  },
  {
   "cell_type": "code",
   "execution_count": 137,
   "id": "0552c941-2b09-462e-a3e1-368b4b7dbc74",
   "metadata": {},
   "outputs": [
    {
     "data": {
      "text/plain": [
       "['A1', 'A2', 'B1', 'B2', 'C1', 'C2']"
      ]
     },
     "execution_count": 137,
     "metadata": {},
     "output_type": "execute_result"
    }
   ],
   "source": [
    "t1 = ('A', 'B', 'C')\n",
    "t2 = ('1', '2')\n",
    "t3 = []\n",
    "for o in t1:\n",
    "    for p in t2:\n",
    "       t3.append(o+p)\n",
    "t3"
   ]
  },
  {
   "cell_type": "code",
   "execution_count": 179,
   "id": "e3d458dc-be71-4a5f-ac09-f1f55144dfda",
   "metadata": {},
   "outputs": [
    {
     "name": "stdin",
     "output_type": "stream",
     "text": [
      "문자열을 입력하세요 : python\n"
     ]
    },
    {
     "name": "stdout",
     "output_type": "stream",
     "text": [
      "p\n",
      "py\n",
      "pyt\n",
      "pyth\n",
      "pytho\n",
      "python\n",
      "pytho\n",
      "pyth\n",
      "pyt\n",
      "py\n",
      "p\n",
      "\n"
     ]
    }
   ],
   "source": [
    "\n",
    "string=input('문자열을 입력하세요 :') \n",
    "l = len(string)\n",
    "k=0\n",
    "\n",
    "for i in range(l):\n",
    "    k=k+1\n",
    "    print(string[0:k])\n",
    "\n",
    "for i in range(l):\n",
    "    l=l-1\n",
    "    print(string[0:l])"
   ]
  },
  {
   "cell_type": "code",
   "execution_count": 225,
   "id": "d6ace483-5e7b-4b18-8255-a8358478bf40",
   "metadata": {},
   "outputs": [
    {
     "name": "stdout",
     "output_type": "stream",
     "text": [
      "banana : 문자열의 길이 6\n",
      "orange : 문자열의 길이 6\n",
      "kiwi   : 문자열의 길이 4\n",
      "apple  : 문자열의 길이 5\n",
      "melon  : 문자열의 길이 5\n"
     ]
    }
   ],
   "source": [
    "fruit_list =['banana', 'orange', 'kiwi','apple', 'melon']\n",
    "for f in fruit_list:\n",
    "    print(f\"{f:7s}: 문자열의 길이 {len(f)}\")\n"
   ]
  },
  {
   "cell_type": "code",
   "execution_count": 219,
   "id": "d76bde08-d9ee-48fd-b4ac-3d0de5fd7439",
   "metadata": {},
   "outputs": [
    {
     "data": {
      "text/plain": [
       "6"
      ]
     },
     "execution_count": 219,
     "metadata": {},
     "output_type": "execute_result"
    }
   ],
   "source": [
    "max_lenth = 0\n",
    "for f in fruit_list:\n",
    "    if len(f) > max_lenth:\n",
    "        max_lenth = len(f)\n",
    "max_lenth"
   ]
  },
  {
   "cell_type": "code",
   "execution_count": 223,
   "id": "a6f9b50c-9781-4888-8e0a-644b3714d638",
   "metadata": {},
   "outputs": [
    {
     "name": "stdout",
     "output_type": "stream",
     "text": [
      "fruit_list ['kiwi', 'apple', 'melon']\n"
     ]
    }
   ],
   "source": [
    "fruit_list =['banana', 'orange', 'kiwi','apple', 'melon']\n",
    "\n",
    "max_lenth = max([len(f) for f in fruit_list])\n",
    "\n",
    "max_lenth_fruit = []\n",
    "for f in fruit_list:\n",
    "    if len(f) == max_lenth:\n",
    "        max_lenth_fruit.append(f)\n",
    "\n",
    "for f in max_lenth_fruit:\n",
    "    fruit_list.remove(f)\n",
    "print('fruit_list',fruit_list)"
   ]
  },
  {
   "cell_type": "code",
   "execution_count": null,
   "id": "dfea960d-9737-474f-aad6-6e1747361dbe",
   "metadata": {},
   "outputs": [],
   "source": []
  },
  {
   "cell_type": "code",
   "execution_count": null,
   "id": "72fefb8c-a42f-453f-a056-ab7f23feed65",
   "metadata": {},
   "outputs": [],
   "source": []
  }
 ],
 "metadata": {
  "kernelspec": {
   "display_name": "Python 3 (ipykernel)",
   "language": "python",
   "name": "python3"
  },
  "language_info": {
   "codemirror_mode": {
    "name": "ipython",
    "version": 3
   },
   "file_extension": ".py",
   "mimetype": "text/x-python",
   "name": "python",
   "nbconvert_exporter": "python",
   "pygments_lexer": "ipython3",
   "version": "3.12.4"
  }
 },
 "nbformat": 4,
 "nbformat_minor": 5
}
